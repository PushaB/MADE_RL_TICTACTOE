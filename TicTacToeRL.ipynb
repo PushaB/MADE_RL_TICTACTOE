{
  "nbformat": 4,
  "nbformat_minor": 0,
  "metadata": {
    "colab": {
      "name": "TicTacToeRL.ipynb",
      "provenance": [],
      "collapsed_sections": [
        "Kg4ceOExA4jF",
        "HNhS8ibeujZE",
        "NiFXC1HyYbC3",
        "o5eNvIiEWG62"
      ]
    },
    "kernelspec": {
      "display_name": "Python 3",
      "language": "python",
      "name": "python3"
    },
    "language_info": {
      "codemirror_mode": {
        "name": "ipython",
        "version": 3
      },
      "file_extension": ".py",
      "mimetype": "text/x-python",
      "name": "python",
      "nbconvert_exporter": "python",
      "pygments_lexer": "ipython3",
      "version": "3.8.6"
    },
    "widgets": {
      "application/vnd.jupyter.widget-state+json": {
        "aa23370f93e44216b7e6b7046746ea99": {
          "model_module": "@jupyter-widgets/controls",
          "model_name": "HBoxModel",
          "state": {
            "_view_name": "HBoxView",
            "_dom_classes": [],
            "_model_name": "HBoxModel",
            "_view_module": "@jupyter-widgets/controls",
            "_model_module_version": "1.5.0",
            "_view_count": null,
            "_view_module_version": "1.5.0",
            "box_style": "",
            "layout": "IPY_MODEL_0a93e6e698b84bf9a64fc6322649e18c",
            "_model_module": "@jupyter-widgets/controls",
            "children": [
              "IPY_MODEL_c7d0c8114e0a433e84856a7ca3945241",
              "IPY_MODEL_65cbaeed74284853923a185da1bbbc20"
            ]
          }
        },
        "0a93e6e698b84bf9a64fc6322649e18c": {
          "model_module": "@jupyter-widgets/base",
          "model_name": "LayoutModel",
          "state": {
            "_view_name": "LayoutView",
            "grid_template_rows": null,
            "right": null,
            "justify_content": null,
            "_view_module": "@jupyter-widgets/base",
            "overflow": null,
            "_model_module_version": "1.2.0",
            "_view_count": null,
            "flex_flow": null,
            "width": null,
            "min_width": null,
            "border": null,
            "align_items": null,
            "bottom": null,
            "_model_module": "@jupyter-widgets/base",
            "top": null,
            "grid_column": null,
            "overflow_y": null,
            "overflow_x": null,
            "grid_auto_flow": null,
            "grid_area": null,
            "grid_template_columns": null,
            "flex": null,
            "_model_name": "LayoutModel",
            "justify_items": null,
            "grid_row": null,
            "max_height": null,
            "align_content": null,
            "visibility": null,
            "align_self": null,
            "height": null,
            "min_height": null,
            "padding": null,
            "grid_auto_rows": null,
            "grid_gap": null,
            "max_width": null,
            "order": null,
            "_view_module_version": "1.2.0",
            "grid_template_areas": null,
            "object_position": null,
            "object_fit": null,
            "grid_auto_columns": null,
            "margin": null,
            "display": null,
            "left": null
          }
        },
        "c7d0c8114e0a433e84856a7ca3945241": {
          "model_module": "@jupyter-widgets/controls",
          "model_name": "FloatProgressModel",
          "state": {
            "_view_name": "ProgressView",
            "style": "IPY_MODEL_64454e466ba64a6faa009c574a4dd2b0",
            "_dom_classes": [],
            "description": "100%",
            "_model_name": "FloatProgressModel",
            "bar_style": "success",
            "max": 300000,
            "_view_module": "@jupyter-widgets/controls",
            "_model_module_version": "1.5.0",
            "value": 300000,
            "_view_count": null,
            "_view_module_version": "1.5.0",
            "orientation": "horizontal",
            "min": 0,
            "description_tooltip": null,
            "_model_module": "@jupyter-widgets/controls",
            "layout": "IPY_MODEL_d354428d3d954b7a891a1199c7a9ca0b"
          }
        },
        "65cbaeed74284853923a185da1bbbc20": {
          "model_module": "@jupyter-widgets/controls",
          "model_name": "HTMLModel",
          "state": {
            "_view_name": "HTMLView",
            "style": "IPY_MODEL_1def6be141794cf5b80be32841dad17f",
            "_dom_classes": [],
            "description": "",
            "_model_name": "HTMLModel",
            "placeholder": "​",
            "_view_module": "@jupyter-widgets/controls",
            "_model_module_version": "1.5.0",
            "value": " 300000/300000 [04:14&lt;00:00, 1177.34it/s]",
            "_view_count": null,
            "_view_module_version": "1.5.0",
            "description_tooltip": null,
            "_model_module": "@jupyter-widgets/controls",
            "layout": "IPY_MODEL_c929935adc194875be29b76d53270869"
          }
        },
        "64454e466ba64a6faa009c574a4dd2b0": {
          "model_module": "@jupyter-widgets/controls",
          "model_name": "ProgressStyleModel",
          "state": {
            "_view_name": "StyleView",
            "_model_name": "ProgressStyleModel",
            "description_width": "initial",
            "_view_module": "@jupyter-widgets/base",
            "_model_module_version": "1.5.0",
            "_view_count": null,
            "_view_module_version": "1.2.0",
            "bar_color": null,
            "_model_module": "@jupyter-widgets/controls"
          }
        },
        "d354428d3d954b7a891a1199c7a9ca0b": {
          "model_module": "@jupyter-widgets/base",
          "model_name": "LayoutModel",
          "state": {
            "_view_name": "LayoutView",
            "grid_template_rows": null,
            "right": null,
            "justify_content": null,
            "_view_module": "@jupyter-widgets/base",
            "overflow": null,
            "_model_module_version": "1.2.0",
            "_view_count": null,
            "flex_flow": null,
            "width": null,
            "min_width": null,
            "border": null,
            "align_items": null,
            "bottom": null,
            "_model_module": "@jupyter-widgets/base",
            "top": null,
            "grid_column": null,
            "overflow_y": null,
            "overflow_x": null,
            "grid_auto_flow": null,
            "grid_area": null,
            "grid_template_columns": null,
            "flex": null,
            "_model_name": "LayoutModel",
            "justify_items": null,
            "grid_row": null,
            "max_height": null,
            "align_content": null,
            "visibility": null,
            "align_self": null,
            "height": null,
            "min_height": null,
            "padding": null,
            "grid_auto_rows": null,
            "grid_gap": null,
            "max_width": null,
            "order": null,
            "_view_module_version": "1.2.0",
            "grid_template_areas": null,
            "object_position": null,
            "object_fit": null,
            "grid_auto_columns": null,
            "margin": null,
            "display": null,
            "left": null
          }
        },
        "1def6be141794cf5b80be32841dad17f": {
          "model_module": "@jupyter-widgets/controls",
          "model_name": "DescriptionStyleModel",
          "state": {
            "_view_name": "StyleView",
            "_model_name": "DescriptionStyleModel",
            "description_width": "",
            "_view_module": "@jupyter-widgets/base",
            "_model_module_version": "1.5.0",
            "_view_count": null,
            "_view_module_version": "1.2.0",
            "_model_module": "@jupyter-widgets/controls"
          }
        },
        "c929935adc194875be29b76d53270869": {
          "model_module": "@jupyter-widgets/base",
          "model_name": "LayoutModel",
          "state": {
            "_view_name": "LayoutView",
            "grid_template_rows": null,
            "right": null,
            "justify_content": null,
            "_view_module": "@jupyter-widgets/base",
            "overflow": null,
            "_model_module_version": "1.2.0",
            "_view_count": null,
            "flex_flow": null,
            "width": null,
            "min_width": null,
            "border": null,
            "align_items": null,
            "bottom": null,
            "_model_module": "@jupyter-widgets/base",
            "top": null,
            "grid_column": null,
            "overflow_y": null,
            "overflow_x": null,
            "grid_auto_flow": null,
            "grid_area": null,
            "grid_template_columns": null,
            "flex": null,
            "_model_name": "LayoutModel",
            "justify_items": null,
            "grid_row": null,
            "max_height": null,
            "align_content": null,
            "visibility": null,
            "align_self": null,
            "height": null,
            "min_height": null,
            "padding": null,
            "grid_auto_rows": null,
            "grid_gap": null,
            "max_width": null,
            "order": null,
            "_view_module_version": "1.2.0",
            "grid_template_areas": null,
            "object_position": null,
            "object_fit": null,
            "grid_auto_columns": null,
            "margin": null,
            "display": null,
            "left": null
          }
        },
        "ebba2baede0943d0803fcd297ba953ce": {
          "model_module": "@jupyter-widgets/controls",
          "model_name": "HBoxModel",
          "state": {
            "_view_name": "HBoxView",
            "_dom_classes": [],
            "_model_name": "HBoxModel",
            "_view_module": "@jupyter-widgets/controls",
            "_model_module_version": "1.5.0",
            "_view_count": null,
            "_view_module_version": "1.5.0",
            "box_style": "",
            "layout": "IPY_MODEL_2769b9e436454d679e04cb3985c58843",
            "_model_module": "@jupyter-widgets/controls",
            "children": [
              "IPY_MODEL_ead1015148cc41c19c77fec1984c0927",
              "IPY_MODEL_b839476d56a84a9bb14dec98d10c5e67"
            ]
          }
        },
        "2769b9e436454d679e04cb3985c58843": {
          "model_module": "@jupyter-widgets/base",
          "model_name": "LayoutModel",
          "state": {
            "_view_name": "LayoutView",
            "grid_template_rows": null,
            "right": null,
            "justify_content": null,
            "_view_module": "@jupyter-widgets/base",
            "overflow": null,
            "_model_module_version": "1.2.0",
            "_view_count": null,
            "flex_flow": null,
            "width": null,
            "min_width": null,
            "border": null,
            "align_items": null,
            "bottom": null,
            "_model_module": "@jupyter-widgets/base",
            "top": null,
            "grid_column": null,
            "overflow_y": null,
            "overflow_x": null,
            "grid_auto_flow": null,
            "grid_area": null,
            "grid_template_columns": null,
            "flex": null,
            "_model_name": "LayoutModel",
            "justify_items": null,
            "grid_row": null,
            "max_height": null,
            "align_content": null,
            "visibility": null,
            "align_self": null,
            "height": null,
            "min_height": null,
            "padding": null,
            "grid_auto_rows": null,
            "grid_gap": null,
            "max_width": null,
            "order": null,
            "_view_module_version": "1.2.0",
            "grid_template_areas": null,
            "object_position": null,
            "object_fit": null,
            "grid_auto_columns": null,
            "margin": null,
            "display": null,
            "left": null
          }
        },
        "ead1015148cc41c19c77fec1984c0927": {
          "model_module": "@jupyter-widgets/controls",
          "model_name": "FloatProgressModel",
          "state": {
            "_view_name": "ProgressView",
            "style": "IPY_MODEL_fb5e8359320540059a07101941810725",
            "_dom_classes": [],
            "description": "100%",
            "_model_name": "FloatProgressModel",
            "bar_style": "success",
            "max": 1000000,
            "_view_module": "@jupyter-widgets/controls",
            "_model_module_version": "1.5.0",
            "value": 1000000,
            "_view_count": null,
            "_view_module_version": "1.5.0",
            "orientation": "horizontal",
            "min": 0,
            "description_tooltip": null,
            "_model_module": "@jupyter-widgets/controls",
            "layout": "IPY_MODEL_3ee61906eaba4750935e72d04118b809"
          }
        },
        "b839476d56a84a9bb14dec98d10c5e67": {
          "model_module": "@jupyter-widgets/controls",
          "model_name": "HTMLModel",
          "state": {
            "_view_name": "HTMLView",
            "style": "IPY_MODEL_3255bfb0e20d4461bc69cf8d5a8bac87",
            "_dom_classes": [],
            "description": "",
            "_model_name": "HTMLModel",
            "placeholder": "​",
            "_view_module": "@jupyter-widgets/controls",
            "_model_module_version": "1.5.0",
            "value": " 1000000/1000000 [20:01&lt;00:00, 832.12it/s]",
            "_view_count": null,
            "_view_module_version": "1.5.0",
            "description_tooltip": null,
            "_model_module": "@jupyter-widgets/controls",
            "layout": "IPY_MODEL_c00b4f2efe86423b8e7461855e3476c9"
          }
        },
        "fb5e8359320540059a07101941810725": {
          "model_module": "@jupyter-widgets/controls",
          "model_name": "ProgressStyleModel",
          "state": {
            "_view_name": "StyleView",
            "_model_name": "ProgressStyleModel",
            "description_width": "initial",
            "_view_module": "@jupyter-widgets/base",
            "_model_module_version": "1.5.0",
            "_view_count": null,
            "_view_module_version": "1.2.0",
            "bar_color": null,
            "_model_module": "@jupyter-widgets/controls"
          }
        },
        "3ee61906eaba4750935e72d04118b809": {
          "model_module": "@jupyter-widgets/base",
          "model_name": "LayoutModel",
          "state": {
            "_view_name": "LayoutView",
            "grid_template_rows": null,
            "right": null,
            "justify_content": null,
            "_view_module": "@jupyter-widgets/base",
            "overflow": null,
            "_model_module_version": "1.2.0",
            "_view_count": null,
            "flex_flow": null,
            "width": null,
            "min_width": null,
            "border": null,
            "align_items": null,
            "bottom": null,
            "_model_module": "@jupyter-widgets/base",
            "top": null,
            "grid_column": null,
            "overflow_y": null,
            "overflow_x": null,
            "grid_auto_flow": null,
            "grid_area": null,
            "grid_template_columns": null,
            "flex": null,
            "_model_name": "LayoutModel",
            "justify_items": null,
            "grid_row": null,
            "max_height": null,
            "align_content": null,
            "visibility": null,
            "align_self": null,
            "height": null,
            "min_height": null,
            "padding": null,
            "grid_auto_rows": null,
            "grid_gap": null,
            "max_width": null,
            "order": null,
            "_view_module_version": "1.2.0",
            "grid_template_areas": null,
            "object_position": null,
            "object_fit": null,
            "grid_auto_columns": null,
            "margin": null,
            "display": null,
            "left": null
          }
        },
        "3255bfb0e20d4461bc69cf8d5a8bac87": {
          "model_module": "@jupyter-widgets/controls",
          "model_name": "DescriptionStyleModel",
          "state": {
            "_view_name": "StyleView",
            "_model_name": "DescriptionStyleModel",
            "description_width": "",
            "_view_module": "@jupyter-widgets/base",
            "_model_module_version": "1.5.0",
            "_view_count": null,
            "_view_module_version": "1.2.0",
            "_model_module": "@jupyter-widgets/controls"
          }
        },
        "c00b4f2efe86423b8e7461855e3476c9": {
          "model_module": "@jupyter-widgets/base",
          "model_name": "LayoutModel",
          "state": {
            "_view_name": "LayoutView",
            "grid_template_rows": null,
            "right": null,
            "justify_content": null,
            "_view_module": "@jupyter-widgets/base",
            "overflow": null,
            "_model_module_version": "1.2.0",
            "_view_count": null,
            "flex_flow": null,
            "width": null,
            "min_width": null,
            "border": null,
            "align_items": null,
            "bottom": null,
            "_model_module": "@jupyter-widgets/base",
            "top": null,
            "grid_column": null,
            "overflow_y": null,
            "overflow_x": null,
            "grid_auto_flow": null,
            "grid_area": null,
            "grid_template_columns": null,
            "flex": null,
            "_model_name": "LayoutModel",
            "justify_items": null,
            "grid_row": null,
            "max_height": null,
            "align_content": null,
            "visibility": null,
            "align_self": null,
            "height": null,
            "min_height": null,
            "padding": null,
            "grid_auto_rows": null,
            "grid_gap": null,
            "max_width": null,
            "order": null,
            "_view_module_version": "1.2.0",
            "grid_template_areas": null,
            "object_position": null,
            "object_fit": null,
            "grid_auto_columns": null,
            "margin": null,
            "display": null,
            "left": null
          }
        },
        "538c067b3fd44dde9c6ea122a765b8cb": {
          "model_module": "@jupyter-widgets/controls",
          "model_name": "HBoxModel",
          "state": {
            "_view_name": "HBoxView",
            "_dom_classes": [],
            "_model_name": "HBoxModel",
            "_view_module": "@jupyter-widgets/controls",
            "_model_module_version": "1.5.0",
            "_view_count": null,
            "_view_module_version": "1.5.0",
            "box_style": "",
            "layout": "IPY_MODEL_fef8c8f1269e4d3a9f2b008c4f14ed30",
            "_model_module": "@jupyter-widgets/controls",
            "children": [
              "IPY_MODEL_994f5b23f72942cc9b7635f4e912c00b",
              "IPY_MODEL_3b64d580af73499aad62d75b40503426"
            ]
          }
        },
        "fef8c8f1269e4d3a9f2b008c4f14ed30": {
          "model_module": "@jupyter-widgets/base",
          "model_name": "LayoutModel",
          "state": {
            "_view_name": "LayoutView",
            "grid_template_rows": null,
            "right": null,
            "justify_content": null,
            "_view_module": "@jupyter-widgets/base",
            "overflow": null,
            "_model_module_version": "1.2.0",
            "_view_count": null,
            "flex_flow": null,
            "width": null,
            "min_width": null,
            "border": null,
            "align_items": null,
            "bottom": null,
            "_model_module": "@jupyter-widgets/base",
            "top": null,
            "grid_column": null,
            "overflow_y": null,
            "overflow_x": null,
            "grid_auto_flow": null,
            "grid_area": null,
            "grid_template_columns": null,
            "flex": null,
            "_model_name": "LayoutModel",
            "justify_items": null,
            "grid_row": null,
            "max_height": null,
            "align_content": null,
            "visibility": null,
            "align_self": null,
            "height": null,
            "min_height": null,
            "padding": null,
            "grid_auto_rows": null,
            "grid_gap": null,
            "max_width": null,
            "order": null,
            "_view_module_version": "1.2.0",
            "grid_template_areas": null,
            "object_position": null,
            "object_fit": null,
            "grid_auto_columns": null,
            "margin": null,
            "display": null,
            "left": null
          }
        },
        "994f5b23f72942cc9b7635f4e912c00b": {
          "model_module": "@jupyter-widgets/controls",
          "model_name": "FloatProgressModel",
          "state": {
            "_view_name": "ProgressView",
            "style": "IPY_MODEL_6d8b8905f0b54e0b87bc4c31ce8c9b23",
            "_dom_classes": [],
            "description": "100%",
            "_model_name": "FloatProgressModel",
            "bar_style": "success",
            "max": 50000,
            "_view_module": "@jupyter-widgets/controls",
            "_model_module_version": "1.5.0",
            "value": 50000,
            "_view_count": null,
            "_view_module_version": "1.5.0",
            "orientation": "horizontal",
            "min": 0,
            "description_tooltip": null,
            "_model_module": "@jupyter-widgets/controls",
            "layout": "IPY_MODEL_b6ddf770da4f4c4180834a7cd154f669"
          }
        },
        "3b64d580af73499aad62d75b40503426": {
          "model_module": "@jupyter-widgets/controls",
          "model_name": "HTMLModel",
          "state": {
            "_view_name": "HTMLView",
            "style": "IPY_MODEL_ecfff8d42c864fefa6d5c7b515b1e781",
            "_dom_classes": [],
            "description": "",
            "_model_name": "HTMLModel",
            "placeholder": "​",
            "_view_module": "@jupyter-widgets/controls",
            "_model_module_version": "1.5.0",
            "value": " 50000/50000 [1:49:13&lt;00:00,  7.63it/s]",
            "_view_count": null,
            "_view_module_version": "1.5.0",
            "description_tooltip": null,
            "_model_module": "@jupyter-widgets/controls",
            "layout": "IPY_MODEL_fcccc6dcc1344f32ada1b698aaa6e994"
          }
        },
        "6d8b8905f0b54e0b87bc4c31ce8c9b23": {
          "model_module": "@jupyter-widgets/controls",
          "model_name": "ProgressStyleModel",
          "state": {
            "_view_name": "StyleView",
            "_model_name": "ProgressStyleModel",
            "description_width": "initial",
            "_view_module": "@jupyter-widgets/base",
            "_model_module_version": "1.5.0",
            "_view_count": null,
            "_view_module_version": "1.2.0",
            "bar_color": null,
            "_model_module": "@jupyter-widgets/controls"
          }
        },
        "b6ddf770da4f4c4180834a7cd154f669": {
          "model_module": "@jupyter-widgets/base",
          "model_name": "LayoutModel",
          "state": {
            "_view_name": "LayoutView",
            "grid_template_rows": null,
            "right": null,
            "justify_content": null,
            "_view_module": "@jupyter-widgets/base",
            "overflow": null,
            "_model_module_version": "1.2.0",
            "_view_count": null,
            "flex_flow": null,
            "width": null,
            "min_width": null,
            "border": null,
            "align_items": null,
            "bottom": null,
            "_model_module": "@jupyter-widgets/base",
            "top": null,
            "grid_column": null,
            "overflow_y": null,
            "overflow_x": null,
            "grid_auto_flow": null,
            "grid_area": null,
            "grid_template_columns": null,
            "flex": null,
            "_model_name": "LayoutModel",
            "justify_items": null,
            "grid_row": null,
            "max_height": null,
            "align_content": null,
            "visibility": null,
            "align_self": null,
            "height": null,
            "min_height": null,
            "padding": null,
            "grid_auto_rows": null,
            "grid_gap": null,
            "max_width": null,
            "order": null,
            "_view_module_version": "1.2.0",
            "grid_template_areas": null,
            "object_position": null,
            "object_fit": null,
            "grid_auto_columns": null,
            "margin": null,
            "display": null,
            "left": null
          }
        },
        "ecfff8d42c864fefa6d5c7b515b1e781": {
          "model_module": "@jupyter-widgets/controls",
          "model_name": "DescriptionStyleModel",
          "state": {
            "_view_name": "StyleView",
            "_model_name": "DescriptionStyleModel",
            "description_width": "",
            "_view_module": "@jupyter-widgets/base",
            "_model_module_version": "1.5.0",
            "_view_count": null,
            "_view_module_version": "1.2.0",
            "_model_module": "@jupyter-widgets/controls"
          }
        },
        "fcccc6dcc1344f32ada1b698aaa6e994": {
          "model_module": "@jupyter-widgets/base",
          "model_name": "LayoutModel",
          "state": {
            "_view_name": "LayoutView",
            "grid_template_rows": null,
            "right": null,
            "justify_content": null,
            "_view_module": "@jupyter-widgets/base",
            "overflow": null,
            "_model_module_version": "1.2.0",
            "_view_count": null,
            "flex_flow": null,
            "width": null,
            "min_width": null,
            "border": null,
            "align_items": null,
            "bottom": null,
            "_model_module": "@jupyter-widgets/base",
            "top": null,
            "grid_column": null,
            "overflow_y": null,
            "overflow_x": null,
            "grid_auto_flow": null,
            "grid_area": null,
            "grid_template_columns": null,
            "flex": null,
            "_model_name": "LayoutModel",
            "justify_items": null,
            "grid_row": null,
            "max_height": null,
            "align_content": null,
            "visibility": null,
            "align_self": null,
            "height": null,
            "min_height": null,
            "padding": null,
            "grid_auto_rows": null,
            "grid_gap": null,
            "max_width": null,
            "order": null,
            "_view_module_version": "1.2.0",
            "grid_template_areas": null,
            "object_position": null,
            "object_fit": null,
            "grid_auto_columns": null,
            "margin": null,
            "display": null,
            "left": null
          }
        },
        "d04e8fc706e1418596ae9c2fa3e9804a": {
          "model_module": "@jupyter-widgets/controls",
          "model_name": "HBoxModel",
          "state": {
            "_view_name": "HBoxView",
            "_dom_classes": [],
            "_model_name": "HBoxModel",
            "_view_module": "@jupyter-widgets/controls",
            "_model_module_version": "1.5.0",
            "_view_count": null,
            "_view_module_version": "1.5.0",
            "box_style": "",
            "layout": "IPY_MODEL_3346701bba2e480792295066a8dbf709",
            "_model_module": "@jupyter-widgets/controls",
            "children": [
              "IPY_MODEL_84cc1f8cf3a6438493bc8e340fa41650",
              "IPY_MODEL_817e023975414ac0926f4ee8ef9051ae"
            ]
          }
        },
        "3346701bba2e480792295066a8dbf709": {
          "model_module": "@jupyter-widgets/base",
          "model_name": "LayoutModel",
          "state": {
            "_view_name": "LayoutView",
            "grid_template_rows": null,
            "right": null,
            "justify_content": null,
            "_view_module": "@jupyter-widgets/base",
            "overflow": null,
            "_model_module_version": "1.2.0",
            "_view_count": null,
            "flex_flow": null,
            "width": null,
            "min_width": null,
            "border": null,
            "align_items": null,
            "bottom": null,
            "_model_module": "@jupyter-widgets/base",
            "top": null,
            "grid_column": null,
            "overflow_y": null,
            "overflow_x": null,
            "grid_auto_flow": null,
            "grid_area": null,
            "grid_template_columns": null,
            "flex": null,
            "_model_name": "LayoutModel",
            "justify_items": null,
            "grid_row": null,
            "max_height": null,
            "align_content": null,
            "visibility": null,
            "align_self": null,
            "height": null,
            "min_height": null,
            "padding": null,
            "grid_auto_rows": null,
            "grid_gap": null,
            "max_width": null,
            "order": null,
            "_view_module_version": "1.2.0",
            "grid_template_areas": null,
            "object_position": null,
            "object_fit": null,
            "grid_auto_columns": null,
            "margin": null,
            "display": null,
            "left": null
          }
        },
        "84cc1f8cf3a6438493bc8e340fa41650": {
          "model_module": "@jupyter-widgets/controls",
          "model_name": "FloatProgressModel",
          "state": {
            "_view_name": "ProgressView",
            "style": "IPY_MODEL_89e8232e3e1a431db0c55a48c8c49518",
            "_dom_classes": [],
            "description": "100%",
            "_model_name": "FloatProgressModel",
            "bar_style": "success",
            "max": 50000,
            "_view_module": "@jupyter-widgets/controls",
            "_model_module_version": "1.5.0",
            "value": 50000,
            "_view_count": null,
            "_view_module_version": "1.5.0",
            "orientation": "horizontal",
            "min": 0,
            "description_tooltip": null,
            "_model_module": "@jupyter-widgets/controls",
            "layout": "IPY_MODEL_d78a108a8c0f4a8c8a41eea2d7c14776"
          }
        },
        "817e023975414ac0926f4ee8ef9051ae": {
          "model_module": "@jupyter-widgets/controls",
          "model_name": "HTMLModel",
          "state": {
            "_view_name": "HTMLView",
            "style": "IPY_MODEL_2c935825b76745c5957bd7a6af9853bf",
            "_dom_classes": [],
            "description": "",
            "_model_name": "HTMLModel",
            "placeholder": "​",
            "_view_module": "@jupyter-widgets/controls",
            "_model_module_version": "1.5.0",
            "value": " 50000/50000 [2:45:19&lt;00:00,  5.04it/s]",
            "_view_count": null,
            "_view_module_version": "1.5.0",
            "description_tooltip": null,
            "_model_module": "@jupyter-widgets/controls",
            "layout": "IPY_MODEL_02ca26cf12864041b0d25b24e3c4aa01"
          }
        },
        "89e8232e3e1a431db0c55a48c8c49518": {
          "model_module": "@jupyter-widgets/controls",
          "model_name": "ProgressStyleModel",
          "state": {
            "_view_name": "StyleView",
            "_model_name": "ProgressStyleModel",
            "description_width": "initial",
            "_view_module": "@jupyter-widgets/base",
            "_model_module_version": "1.5.0",
            "_view_count": null,
            "_view_module_version": "1.2.0",
            "bar_color": null,
            "_model_module": "@jupyter-widgets/controls"
          }
        },
        "d78a108a8c0f4a8c8a41eea2d7c14776": {
          "model_module": "@jupyter-widgets/base",
          "model_name": "LayoutModel",
          "state": {
            "_view_name": "LayoutView",
            "grid_template_rows": null,
            "right": null,
            "justify_content": null,
            "_view_module": "@jupyter-widgets/base",
            "overflow": null,
            "_model_module_version": "1.2.0",
            "_view_count": null,
            "flex_flow": null,
            "width": null,
            "min_width": null,
            "border": null,
            "align_items": null,
            "bottom": null,
            "_model_module": "@jupyter-widgets/base",
            "top": null,
            "grid_column": null,
            "overflow_y": null,
            "overflow_x": null,
            "grid_auto_flow": null,
            "grid_area": null,
            "grid_template_columns": null,
            "flex": null,
            "_model_name": "LayoutModel",
            "justify_items": null,
            "grid_row": null,
            "max_height": null,
            "align_content": null,
            "visibility": null,
            "align_self": null,
            "height": null,
            "min_height": null,
            "padding": null,
            "grid_auto_rows": null,
            "grid_gap": null,
            "max_width": null,
            "order": null,
            "_view_module_version": "1.2.0",
            "grid_template_areas": null,
            "object_position": null,
            "object_fit": null,
            "grid_auto_columns": null,
            "margin": null,
            "display": null,
            "left": null
          }
        },
        "2c935825b76745c5957bd7a6af9853bf": {
          "model_module": "@jupyter-widgets/controls",
          "model_name": "DescriptionStyleModel",
          "state": {
            "_view_name": "StyleView",
            "_model_name": "DescriptionStyleModel",
            "description_width": "",
            "_view_module": "@jupyter-widgets/base",
            "_model_module_version": "1.5.0",
            "_view_count": null,
            "_view_module_version": "1.2.0",
            "_model_module": "@jupyter-widgets/controls"
          }
        },
        "02ca26cf12864041b0d25b24e3c4aa01": {
          "model_module": "@jupyter-widgets/base",
          "model_name": "LayoutModel",
          "state": {
            "_view_name": "LayoutView",
            "grid_template_rows": null,
            "right": null,
            "justify_content": null,
            "_view_module": "@jupyter-widgets/base",
            "overflow": null,
            "_model_module_version": "1.2.0",
            "_view_count": null,
            "flex_flow": null,
            "width": null,
            "min_width": null,
            "border": null,
            "align_items": null,
            "bottom": null,
            "_model_module": "@jupyter-widgets/base",
            "top": null,
            "grid_column": null,
            "overflow_y": null,
            "overflow_x": null,
            "grid_auto_flow": null,
            "grid_area": null,
            "grid_template_columns": null,
            "flex": null,
            "_model_name": "LayoutModel",
            "justify_items": null,
            "grid_row": null,
            "max_height": null,
            "align_content": null,
            "visibility": null,
            "align_self": null,
            "height": null,
            "min_height": null,
            "padding": null,
            "grid_auto_rows": null,
            "grid_gap": null,
            "max_width": null,
            "order": null,
            "_view_module_version": "1.2.0",
            "grid_template_areas": null,
            "object_position": null,
            "object_fit": null,
            "grid_auto_columns": null,
            "margin": null,
            "display": null,
            "left": null
          }
        },
        "849db9b39a2f4a73bdd2dd60c2bf3446": {
          "model_module": "@jupyter-widgets/controls",
          "model_name": "HBoxModel",
          "state": {
            "_view_name": "HBoxView",
            "_dom_classes": [],
            "_model_name": "HBoxModel",
            "_view_module": "@jupyter-widgets/controls",
            "_model_module_version": "1.5.0",
            "_view_count": null,
            "_view_module_version": "1.5.0",
            "box_style": "",
            "layout": "IPY_MODEL_b71c4278ca924971a20edaadce0468d8",
            "_model_module": "@jupyter-widgets/controls",
            "children": [
              "IPY_MODEL_a26dd54634f8420da942d4fa98c4dff0",
              "IPY_MODEL_2156956f1ed846869a45b194062ee46f"
            ]
          }
        },
        "b71c4278ca924971a20edaadce0468d8": {
          "model_module": "@jupyter-widgets/base",
          "model_name": "LayoutModel",
          "state": {
            "_view_name": "LayoutView",
            "grid_template_rows": null,
            "right": null,
            "justify_content": null,
            "_view_module": "@jupyter-widgets/base",
            "overflow": null,
            "_model_module_version": "1.2.0",
            "_view_count": null,
            "flex_flow": null,
            "width": null,
            "min_width": null,
            "border": null,
            "align_items": null,
            "bottom": null,
            "_model_module": "@jupyter-widgets/base",
            "top": null,
            "grid_column": null,
            "overflow_y": null,
            "overflow_x": null,
            "grid_auto_flow": null,
            "grid_area": null,
            "grid_template_columns": null,
            "flex": null,
            "_model_name": "LayoutModel",
            "justify_items": null,
            "grid_row": null,
            "max_height": null,
            "align_content": null,
            "visibility": null,
            "align_self": null,
            "height": null,
            "min_height": null,
            "padding": null,
            "grid_auto_rows": null,
            "grid_gap": null,
            "max_width": null,
            "order": null,
            "_view_module_version": "1.2.0",
            "grid_template_areas": null,
            "object_position": null,
            "object_fit": null,
            "grid_auto_columns": null,
            "margin": null,
            "display": null,
            "left": null
          }
        },
        "a26dd54634f8420da942d4fa98c4dff0": {
          "model_module": "@jupyter-widgets/controls",
          "model_name": "FloatProgressModel",
          "state": {
            "_view_name": "ProgressView",
            "style": "IPY_MODEL_6b2099c067414daeb41b6b863bae3d88",
            "_dom_classes": [],
            "description": "100%",
            "_model_name": "FloatProgressModel",
            "bar_style": "success",
            "max": 50000,
            "_view_module": "@jupyter-widgets/controls",
            "_model_module_version": "1.5.0",
            "value": 50000,
            "_view_count": null,
            "_view_module_version": "1.5.0",
            "orientation": "horizontal",
            "min": 0,
            "description_tooltip": null,
            "_model_module": "@jupyter-widgets/controls",
            "layout": "IPY_MODEL_2423bed5e7604971839cb37bbfb9275b"
          }
        },
        "2156956f1ed846869a45b194062ee46f": {
          "model_module": "@jupyter-widgets/controls",
          "model_name": "HTMLModel",
          "state": {
            "_view_name": "HTMLView",
            "style": "IPY_MODEL_bfb3570d25bc4e6a8c13adfc62ff78ba",
            "_dom_classes": [],
            "description": "",
            "_model_name": "HTMLModel",
            "placeholder": "​",
            "_view_module": "@jupyter-widgets/controls",
            "_model_module_version": "1.5.0",
            "value": " 50000/50000 [2:16:05&lt;00:00,  6.12it/s]",
            "_view_count": null,
            "_view_module_version": "1.5.0",
            "description_tooltip": null,
            "_model_module": "@jupyter-widgets/controls",
            "layout": "IPY_MODEL_f39e05c338cc4f868a5297be5e91d716"
          }
        },
        "6b2099c067414daeb41b6b863bae3d88": {
          "model_module": "@jupyter-widgets/controls",
          "model_name": "ProgressStyleModel",
          "state": {
            "_view_name": "StyleView",
            "_model_name": "ProgressStyleModel",
            "description_width": "initial",
            "_view_module": "@jupyter-widgets/base",
            "_model_module_version": "1.5.0",
            "_view_count": null,
            "_view_module_version": "1.2.0",
            "bar_color": null,
            "_model_module": "@jupyter-widgets/controls"
          }
        },
        "2423bed5e7604971839cb37bbfb9275b": {
          "model_module": "@jupyter-widgets/base",
          "model_name": "LayoutModel",
          "state": {
            "_view_name": "LayoutView",
            "grid_template_rows": null,
            "right": null,
            "justify_content": null,
            "_view_module": "@jupyter-widgets/base",
            "overflow": null,
            "_model_module_version": "1.2.0",
            "_view_count": null,
            "flex_flow": null,
            "width": null,
            "min_width": null,
            "border": null,
            "align_items": null,
            "bottom": null,
            "_model_module": "@jupyter-widgets/base",
            "top": null,
            "grid_column": null,
            "overflow_y": null,
            "overflow_x": null,
            "grid_auto_flow": null,
            "grid_area": null,
            "grid_template_columns": null,
            "flex": null,
            "_model_name": "LayoutModel",
            "justify_items": null,
            "grid_row": null,
            "max_height": null,
            "align_content": null,
            "visibility": null,
            "align_self": null,
            "height": null,
            "min_height": null,
            "padding": null,
            "grid_auto_rows": null,
            "grid_gap": null,
            "max_width": null,
            "order": null,
            "_view_module_version": "1.2.0",
            "grid_template_areas": null,
            "object_position": null,
            "object_fit": null,
            "grid_auto_columns": null,
            "margin": null,
            "display": null,
            "left": null
          }
        },
        "bfb3570d25bc4e6a8c13adfc62ff78ba": {
          "model_module": "@jupyter-widgets/controls",
          "model_name": "DescriptionStyleModel",
          "state": {
            "_view_name": "StyleView",
            "_model_name": "DescriptionStyleModel",
            "description_width": "",
            "_view_module": "@jupyter-widgets/base",
            "_model_module_version": "1.5.0",
            "_view_count": null,
            "_view_module_version": "1.2.0",
            "_model_module": "@jupyter-widgets/controls"
          }
        },
        "f39e05c338cc4f868a5297be5e91d716": {
          "model_module": "@jupyter-widgets/base",
          "model_name": "LayoutModel",
          "state": {
            "_view_name": "LayoutView",
            "grid_template_rows": null,
            "right": null,
            "justify_content": null,
            "_view_module": "@jupyter-widgets/base",
            "overflow": null,
            "_model_module_version": "1.2.0",
            "_view_count": null,
            "flex_flow": null,
            "width": null,
            "min_width": null,
            "border": null,
            "align_items": null,
            "bottom": null,
            "_model_module": "@jupyter-widgets/base",
            "top": null,
            "grid_column": null,
            "overflow_y": null,
            "overflow_x": null,
            "grid_auto_flow": null,
            "grid_area": null,
            "grid_template_columns": null,
            "flex": null,
            "_model_name": "LayoutModel",
            "justify_items": null,
            "grid_row": null,
            "max_height": null,
            "align_content": null,
            "visibility": null,
            "align_self": null,
            "height": null,
            "min_height": null,
            "padding": null,
            "grid_auto_rows": null,
            "grid_gap": null,
            "max_width": null,
            "order": null,
            "_view_module_version": "1.2.0",
            "grid_template_areas": null,
            "object_position": null,
            "object_fit": null,
            "grid_auto_columns": null,
            "margin": null,
            "display": null,
            "left": null
          }
        },
        "8e570c4090524eff9b12f55107024259": {
          "model_module": "@jupyter-widgets/controls",
          "model_name": "HBoxModel",
          "state": {
            "_view_name": "HBoxView",
            "_dom_classes": [],
            "_model_name": "HBoxModel",
            "_view_module": "@jupyter-widgets/controls",
            "_model_module_version": "1.5.0",
            "_view_count": null,
            "_view_module_version": "1.5.0",
            "box_style": "",
            "layout": "IPY_MODEL_aa278e5b07d249b1890f592b7c871c4f",
            "_model_module": "@jupyter-widgets/controls",
            "children": [
              "IPY_MODEL_00bd1f7cc2474e8392413f2fc11e3296",
              "IPY_MODEL_452fbaee7068454abe996af89ed2e40a"
            ]
          }
        },
        "aa278e5b07d249b1890f592b7c871c4f": {
          "model_module": "@jupyter-widgets/base",
          "model_name": "LayoutModel",
          "state": {
            "_view_name": "LayoutView",
            "grid_template_rows": null,
            "right": null,
            "justify_content": null,
            "_view_module": "@jupyter-widgets/base",
            "overflow": null,
            "_model_module_version": "1.2.0",
            "_view_count": null,
            "flex_flow": null,
            "width": null,
            "min_width": null,
            "border": null,
            "align_items": null,
            "bottom": null,
            "_model_module": "@jupyter-widgets/base",
            "top": null,
            "grid_column": null,
            "overflow_y": null,
            "overflow_x": null,
            "grid_auto_flow": null,
            "grid_area": null,
            "grid_template_columns": null,
            "flex": null,
            "_model_name": "LayoutModel",
            "justify_items": null,
            "grid_row": null,
            "max_height": null,
            "align_content": null,
            "visibility": null,
            "align_self": null,
            "height": null,
            "min_height": null,
            "padding": null,
            "grid_auto_rows": null,
            "grid_gap": null,
            "max_width": null,
            "order": null,
            "_view_module_version": "1.2.0",
            "grid_template_areas": null,
            "object_position": null,
            "object_fit": null,
            "grid_auto_columns": null,
            "margin": null,
            "display": null,
            "left": null
          }
        },
        "00bd1f7cc2474e8392413f2fc11e3296": {
          "model_module": "@jupyter-widgets/controls",
          "model_name": "FloatProgressModel",
          "state": {
            "_view_name": "ProgressView",
            "style": "IPY_MODEL_672685d7fb544fdea4d665cf362fa273",
            "_dom_classes": [],
            "description": "100%",
            "_model_name": "FloatProgressModel",
            "bar_style": "success",
            "max": 100,
            "_view_module": "@jupyter-widgets/controls",
            "_model_module_version": "1.5.0",
            "value": 100,
            "_view_count": null,
            "_view_module_version": "1.5.0",
            "orientation": "horizontal",
            "min": 0,
            "description_tooltip": null,
            "_model_module": "@jupyter-widgets/controls",
            "layout": "IPY_MODEL_7cfc01ff05db45e3b4c66d3195e44156"
          }
        },
        "452fbaee7068454abe996af89ed2e40a": {
          "model_module": "@jupyter-widgets/controls",
          "model_name": "HTMLModel",
          "state": {
            "_view_name": "HTMLView",
            "style": "IPY_MODEL_e12114e8c9234edcbc4f1ab32d5449df",
            "_dom_classes": [],
            "description": "",
            "_model_name": "HTMLModel",
            "placeholder": "​",
            "_view_module": "@jupyter-widgets/controls",
            "_model_module_version": "1.5.0",
            "value": " 100/100 [08:59&lt;00:00,  5.39s/it]",
            "_view_count": null,
            "_view_module_version": "1.5.0",
            "description_tooltip": null,
            "_model_module": "@jupyter-widgets/controls",
            "layout": "IPY_MODEL_9d2a0c6307df4e4a82e722276d28c700"
          }
        },
        "672685d7fb544fdea4d665cf362fa273": {
          "model_module": "@jupyter-widgets/controls",
          "model_name": "ProgressStyleModel",
          "state": {
            "_view_name": "StyleView",
            "_model_name": "ProgressStyleModel",
            "description_width": "initial",
            "_view_module": "@jupyter-widgets/base",
            "_model_module_version": "1.5.0",
            "_view_count": null,
            "_view_module_version": "1.2.0",
            "bar_color": null,
            "_model_module": "@jupyter-widgets/controls"
          }
        },
        "7cfc01ff05db45e3b4c66d3195e44156": {
          "model_module": "@jupyter-widgets/base",
          "model_name": "LayoutModel",
          "state": {
            "_view_name": "LayoutView",
            "grid_template_rows": null,
            "right": null,
            "justify_content": null,
            "_view_module": "@jupyter-widgets/base",
            "overflow": null,
            "_model_module_version": "1.2.0",
            "_view_count": null,
            "flex_flow": null,
            "width": null,
            "min_width": null,
            "border": null,
            "align_items": null,
            "bottom": null,
            "_model_module": "@jupyter-widgets/base",
            "top": null,
            "grid_column": null,
            "overflow_y": null,
            "overflow_x": null,
            "grid_auto_flow": null,
            "grid_area": null,
            "grid_template_columns": null,
            "flex": null,
            "_model_name": "LayoutModel",
            "justify_items": null,
            "grid_row": null,
            "max_height": null,
            "align_content": null,
            "visibility": null,
            "align_self": null,
            "height": null,
            "min_height": null,
            "padding": null,
            "grid_auto_rows": null,
            "grid_gap": null,
            "max_width": null,
            "order": null,
            "_view_module_version": "1.2.0",
            "grid_template_areas": null,
            "object_position": null,
            "object_fit": null,
            "grid_auto_columns": null,
            "margin": null,
            "display": null,
            "left": null
          }
        },
        "e12114e8c9234edcbc4f1ab32d5449df": {
          "model_module": "@jupyter-widgets/controls",
          "model_name": "DescriptionStyleModel",
          "state": {
            "_view_name": "StyleView",
            "_model_name": "DescriptionStyleModel",
            "description_width": "",
            "_view_module": "@jupyter-widgets/base",
            "_model_module_version": "1.5.0",
            "_view_count": null,
            "_view_module_version": "1.2.0",
            "_model_module": "@jupyter-widgets/controls"
          }
        },
        "9d2a0c6307df4e4a82e722276d28c700": {
          "model_module": "@jupyter-widgets/base",
          "model_name": "LayoutModel",
          "state": {
            "_view_name": "LayoutView",
            "grid_template_rows": null,
            "right": null,
            "justify_content": null,
            "_view_module": "@jupyter-widgets/base",
            "overflow": null,
            "_model_module_version": "1.2.0",
            "_view_count": null,
            "flex_flow": null,
            "width": null,
            "min_width": null,
            "border": null,
            "align_items": null,
            "bottom": null,
            "_model_module": "@jupyter-widgets/base",
            "top": null,
            "grid_column": null,
            "overflow_y": null,
            "overflow_x": null,
            "grid_auto_flow": null,
            "grid_area": null,
            "grid_template_columns": null,
            "flex": null,
            "_model_name": "LayoutModel",
            "justify_items": null,
            "grid_row": null,
            "max_height": null,
            "align_content": null,
            "visibility": null,
            "align_self": null,
            "height": null,
            "min_height": null,
            "padding": null,
            "grid_auto_rows": null,
            "grid_gap": null,
            "max_width": null,
            "order": null,
            "_view_module_version": "1.2.0",
            "grid_template_areas": null,
            "object_position": null,
            "object_fit": null,
            "grid_auto_columns": null,
            "margin": null,
            "display": null,
            "left": null
          }
        },
        "e0b69bf8ba9b4c3bafa6847bd5cf4b11": {
          "model_module": "@jupyter-widgets/controls",
          "model_name": "HBoxModel",
          "state": {
            "_view_name": "HBoxView",
            "_dom_classes": [],
            "_model_name": "HBoxModel",
            "_view_module": "@jupyter-widgets/controls",
            "_model_module_version": "1.5.0",
            "_view_count": null,
            "_view_module_version": "1.5.0",
            "box_style": "",
            "layout": "IPY_MODEL_11ae9200c32645bcb89874fd92b87ba2",
            "_model_module": "@jupyter-widgets/controls",
            "children": [
              "IPY_MODEL_494fc6afcc534ed583d7debd002ef8d6",
              "IPY_MODEL_74e50dab265343cd832794e6eb039a74"
            ]
          }
        },
        "11ae9200c32645bcb89874fd92b87ba2": {
          "model_module": "@jupyter-widgets/base",
          "model_name": "LayoutModel",
          "state": {
            "_view_name": "LayoutView",
            "grid_template_rows": null,
            "right": null,
            "justify_content": null,
            "_view_module": "@jupyter-widgets/base",
            "overflow": null,
            "_model_module_version": "1.2.0",
            "_view_count": null,
            "flex_flow": null,
            "width": null,
            "min_width": null,
            "border": null,
            "align_items": null,
            "bottom": null,
            "_model_module": "@jupyter-widgets/base",
            "top": null,
            "grid_column": null,
            "overflow_y": null,
            "overflow_x": null,
            "grid_auto_flow": null,
            "grid_area": null,
            "grid_template_columns": null,
            "flex": null,
            "_model_name": "LayoutModel",
            "justify_items": null,
            "grid_row": null,
            "max_height": null,
            "align_content": null,
            "visibility": null,
            "align_self": null,
            "height": null,
            "min_height": null,
            "padding": null,
            "grid_auto_rows": null,
            "grid_gap": null,
            "max_width": null,
            "order": null,
            "_view_module_version": "1.2.0",
            "grid_template_areas": null,
            "object_position": null,
            "object_fit": null,
            "grid_auto_columns": null,
            "margin": null,
            "display": null,
            "left": null
          }
        },
        "494fc6afcc534ed583d7debd002ef8d6": {
          "model_module": "@jupyter-widgets/controls",
          "model_name": "FloatProgressModel",
          "state": {
            "_view_name": "ProgressView",
            "style": "IPY_MODEL_21281d797a0c459db8a8c102c5e138bf",
            "_dom_classes": [],
            "description": "100%",
            "_model_name": "FloatProgressModel",
            "bar_style": "success",
            "max": 50000,
            "_view_module": "@jupyter-widgets/controls",
            "_model_module_version": "1.5.0",
            "value": 50000,
            "_view_count": null,
            "_view_module_version": "1.5.0",
            "orientation": "horizontal",
            "min": 0,
            "description_tooltip": null,
            "_model_module": "@jupyter-widgets/controls",
            "layout": "IPY_MODEL_6d66fb4a34de41bda29f0a41423f7305"
          }
        },
        "74e50dab265343cd832794e6eb039a74": {
          "model_module": "@jupyter-widgets/controls",
          "model_name": "HTMLModel",
          "state": {
            "_view_name": "HTMLView",
            "style": "IPY_MODEL_35e6cc2659314cb7b560b240b29fdadc",
            "_dom_classes": [],
            "description": "",
            "_model_name": "HTMLModel",
            "placeholder": "​",
            "_view_module": "@jupyter-widgets/controls",
            "_model_module_version": "1.5.0",
            "value": " 50000/50000 [00:32&lt;00:00, 1519.89it/s]",
            "_view_count": null,
            "_view_module_version": "1.5.0",
            "description_tooltip": null,
            "_model_module": "@jupyter-widgets/controls",
            "layout": "IPY_MODEL_78309eb8485f4ebd8aa0711d60edbc61"
          }
        },
        "21281d797a0c459db8a8c102c5e138bf": {
          "model_module": "@jupyter-widgets/controls",
          "model_name": "ProgressStyleModel",
          "state": {
            "_view_name": "StyleView",
            "_model_name": "ProgressStyleModel",
            "description_width": "initial",
            "_view_module": "@jupyter-widgets/base",
            "_model_module_version": "1.5.0",
            "_view_count": null,
            "_view_module_version": "1.2.0",
            "bar_color": null,
            "_model_module": "@jupyter-widgets/controls"
          }
        },
        "6d66fb4a34de41bda29f0a41423f7305": {
          "model_module": "@jupyter-widgets/base",
          "model_name": "LayoutModel",
          "state": {
            "_view_name": "LayoutView",
            "grid_template_rows": null,
            "right": null,
            "justify_content": null,
            "_view_module": "@jupyter-widgets/base",
            "overflow": null,
            "_model_module_version": "1.2.0",
            "_view_count": null,
            "flex_flow": null,
            "width": null,
            "min_width": null,
            "border": null,
            "align_items": null,
            "bottom": null,
            "_model_module": "@jupyter-widgets/base",
            "top": null,
            "grid_column": null,
            "overflow_y": null,
            "overflow_x": null,
            "grid_auto_flow": null,
            "grid_area": null,
            "grid_template_columns": null,
            "flex": null,
            "_model_name": "LayoutModel",
            "justify_items": null,
            "grid_row": null,
            "max_height": null,
            "align_content": null,
            "visibility": null,
            "align_self": null,
            "height": null,
            "min_height": null,
            "padding": null,
            "grid_auto_rows": null,
            "grid_gap": null,
            "max_width": null,
            "order": null,
            "_view_module_version": "1.2.0",
            "grid_template_areas": null,
            "object_position": null,
            "object_fit": null,
            "grid_auto_columns": null,
            "margin": null,
            "display": null,
            "left": null
          }
        },
        "35e6cc2659314cb7b560b240b29fdadc": {
          "model_module": "@jupyter-widgets/controls",
          "model_name": "DescriptionStyleModel",
          "state": {
            "_view_name": "StyleView",
            "_model_name": "DescriptionStyleModel",
            "description_width": "",
            "_view_module": "@jupyter-widgets/base",
            "_model_module_version": "1.5.0",
            "_view_count": null,
            "_view_module_version": "1.2.0",
            "_model_module": "@jupyter-widgets/controls"
          }
        },
        "78309eb8485f4ebd8aa0711d60edbc61": {
          "model_module": "@jupyter-widgets/base",
          "model_name": "LayoutModel",
          "state": {
            "_view_name": "LayoutView",
            "grid_template_rows": null,
            "right": null,
            "justify_content": null,
            "_view_module": "@jupyter-widgets/base",
            "overflow": null,
            "_model_module_version": "1.2.0",
            "_view_count": null,
            "flex_flow": null,
            "width": null,
            "min_width": null,
            "border": null,
            "align_items": null,
            "bottom": null,
            "_model_module": "@jupyter-widgets/base",
            "top": null,
            "grid_column": null,
            "overflow_y": null,
            "overflow_x": null,
            "grid_auto_flow": null,
            "grid_area": null,
            "grid_template_columns": null,
            "flex": null,
            "_model_name": "LayoutModel",
            "justify_items": null,
            "grid_row": null,
            "max_height": null,
            "align_content": null,
            "visibility": null,
            "align_self": null,
            "height": null,
            "min_height": null,
            "padding": null,
            "grid_auto_rows": null,
            "grid_gap": null,
            "max_width": null,
            "order": null,
            "_view_module_version": "1.2.0",
            "grid_template_areas": null,
            "object_position": null,
            "object_fit": null,
            "grid_auto_columns": null,
            "margin": null,
            "display": null,
            "left": null
          }
        },
        "e17d70a9e8e34f939b5ab7bc6dee43a8": {
          "model_module": "@jupyter-widgets/controls",
          "model_name": "HBoxModel",
          "state": {
            "_view_name": "HBoxView",
            "_dom_classes": [],
            "_model_name": "HBoxModel",
            "_view_module": "@jupyter-widgets/controls",
            "_model_module_version": "1.5.0",
            "_view_count": null,
            "_view_module_version": "1.5.0",
            "box_style": "",
            "layout": "IPY_MODEL_1ce801fbf5924ad3a05e0ebd29c1da62",
            "_model_module": "@jupyter-widgets/controls",
            "children": [
              "IPY_MODEL_484ab47f4eb240b3bad9387ae9223b9b",
              "IPY_MODEL_8d8b33a6ef6e46168118a5c3537a4b0d"
            ]
          }
        },
        "1ce801fbf5924ad3a05e0ebd29c1da62": {
          "model_module": "@jupyter-widgets/base",
          "model_name": "LayoutModel",
          "state": {
            "_view_name": "LayoutView",
            "grid_template_rows": null,
            "right": null,
            "justify_content": null,
            "_view_module": "@jupyter-widgets/base",
            "overflow": null,
            "_model_module_version": "1.2.0",
            "_view_count": null,
            "flex_flow": null,
            "width": null,
            "min_width": null,
            "border": null,
            "align_items": null,
            "bottom": null,
            "_model_module": "@jupyter-widgets/base",
            "top": null,
            "grid_column": null,
            "overflow_y": null,
            "overflow_x": null,
            "grid_auto_flow": null,
            "grid_area": null,
            "grid_template_columns": null,
            "flex": null,
            "_model_name": "LayoutModel",
            "justify_items": null,
            "grid_row": null,
            "max_height": null,
            "align_content": null,
            "visibility": null,
            "align_self": null,
            "height": null,
            "min_height": null,
            "padding": null,
            "grid_auto_rows": null,
            "grid_gap": null,
            "max_width": null,
            "order": null,
            "_view_module_version": "1.2.0",
            "grid_template_areas": null,
            "object_position": null,
            "object_fit": null,
            "grid_auto_columns": null,
            "margin": null,
            "display": null,
            "left": null
          }
        },
        "484ab47f4eb240b3bad9387ae9223b9b": {
          "model_module": "@jupyter-widgets/controls",
          "model_name": "FloatProgressModel",
          "state": {
            "_view_name": "ProgressView",
            "style": "IPY_MODEL_74fc56f83f4c463c92fda486a8cc8006",
            "_dom_classes": [],
            "description": "100%",
            "_model_name": "FloatProgressModel",
            "bar_style": "success",
            "max": 100,
            "_view_module": "@jupyter-widgets/controls",
            "_model_module_version": "1.5.0",
            "value": 100,
            "_view_count": null,
            "_view_module_version": "1.5.0",
            "orientation": "horizontal",
            "min": 0,
            "description_tooltip": null,
            "_model_module": "@jupyter-widgets/controls",
            "layout": "IPY_MODEL_4b7c607cffd047e489370979aceae040"
          }
        },
        "8d8b33a6ef6e46168118a5c3537a4b0d": {
          "model_module": "@jupyter-widgets/controls",
          "model_name": "HTMLModel",
          "state": {
            "_view_name": "HTMLView",
            "style": "IPY_MODEL_8248a20f898343839959bc0215232e3e",
            "_dom_classes": [],
            "description": "",
            "_model_name": "HTMLModel",
            "placeholder": "​",
            "_view_module": "@jupyter-widgets/controls",
            "_model_module_version": "1.5.0",
            "value": " 100/100 [07:34&lt;00:00,  4.55s/it]",
            "_view_count": null,
            "_view_module_version": "1.5.0",
            "description_tooltip": null,
            "_model_module": "@jupyter-widgets/controls",
            "layout": "IPY_MODEL_a7c977e35ed340d0a99cdf119a5f649a"
          }
        },
        "74fc56f83f4c463c92fda486a8cc8006": {
          "model_module": "@jupyter-widgets/controls",
          "model_name": "ProgressStyleModel",
          "state": {
            "_view_name": "StyleView",
            "_model_name": "ProgressStyleModel",
            "description_width": "initial",
            "_view_module": "@jupyter-widgets/base",
            "_model_module_version": "1.5.0",
            "_view_count": null,
            "_view_module_version": "1.2.0",
            "bar_color": null,
            "_model_module": "@jupyter-widgets/controls"
          }
        },
        "4b7c607cffd047e489370979aceae040": {
          "model_module": "@jupyter-widgets/base",
          "model_name": "LayoutModel",
          "state": {
            "_view_name": "LayoutView",
            "grid_template_rows": null,
            "right": null,
            "justify_content": null,
            "_view_module": "@jupyter-widgets/base",
            "overflow": null,
            "_model_module_version": "1.2.0",
            "_view_count": null,
            "flex_flow": null,
            "width": null,
            "min_width": null,
            "border": null,
            "align_items": null,
            "bottom": null,
            "_model_module": "@jupyter-widgets/base",
            "top": null,
            "grid_column": null,
            "overflow_y": null,
            "overflow_x": null,
            "grid_auto_flow": null,
            "grid_area": null,
            "grid_template_columns": null,
            "flex": null,
            "_model_name": "LayoutModel",
            "justify_items": null,
            "grid_row": null,
            "max_height": null,
            "align_content": null,
            "visibility": null,
            "align_self": null,
            "height": null,
            "min_height": null,
            "padding": null,
            "grid_auto_rows": null,
            "grid_gap": null,
            "max_width": null,
            "order": null,
            "_view_module_version": "1.2.0",
            "grid_template_areas": null,
            "object_position": null,
            "object_fit": null,
            "grid_auto_columns": null,
            "margin": null,
            "display": null,
            "left": null
          }
        },
        "8248a20f898343839959bc0215232e3e": {
          "model_module": "@jupyter-widgets/controls",
          "model_name": "DescriptionStyleModel",
          "state": {
            "_view_name": "StyleView",
            "_model_name": "DescriptionStyleModel",
            "description_width": "",
            "_view_module": "@jupyter-widgets/base",
            "_model_module_version": "1.5.0",
            "_view_count": null,
            "_view_module_version": "1.2.0",
            "_model_module": "@jupyter-widgets/controls"
          }
        },
        "a7c977e35ed340d0a99cdf119a5f649a": {
          "model_module": "@jupyter-widgets/base",
          "model_name": "LayoutModel",
          "state": {
            "_view_name": "LayoutView",
            "grid_template_rows": null,
            "right": null,
            "justify_content": null,
            "_view_module": "@jupyter-widgets/base",
            "overflow": null,
            "_model_module_version": "1.2.0",
            "_view_count": null,
            "flex_flow": null,
            "width": null,
            "min_width": null,
            "border": null,
            "align_items": null,
            "bottom": null,
            "_model_module": "@jupyter-widgets/base",
            "top": null,
            "grid_column": null,
            "overflow_y": null,
            "overflow_x": null,
            "grid_auto_flow": null,
            "grid_area": null,
            "grid_template_columns": null,
            "flex": null,
            "_model_name": "LayoutModel",
            "justify_items": null,
            "grid_row": null,
            "max_height": null,
            "align_content": null,
            "visibility": null,
            "align_self": null,
            "height": null,
            "min_height": null,
            "padding": null,
            "grid_auto_rows": null,
            "grid_gap": null,
            "max_width": null,
            "order": null,
            "_view_module_version": "1.2.0",
            "grid_template_areas": null,
            "object_position": null,
            "object_fit": null,
            "grid_auto_columns": null,
            "margin": null,
            "display": null,
            "left": null
          }
        },
        "d3733dcf218e48d2a87ade65edaa067c": {
          "model_module": "@jupyter-widgets/controls",
          "model_name": "HBoxModel",
          "state": {
            "_view_name": "HBoxView",
            "_dom_classes": [],
            "_model_name": "HBoxModel",
            "_view_module": "@jupyter-widgets/controls",
            "_model_module_version": "1.5.0",
            "_view_count": null,
            "_view_module_version": "1.5.0",
            "box_style": "",
            "layout": "IPY_MODEL_bc18bb327e58402db48481db123cba5f",
            "_model_module": "@jupyter-widgets/controls",
            "children": [
              "IPY_MODEL_063ee627956f428ba50aba27071a9c27",
              "IPY_MODEL_3266d8330dab40c2bbe5c8b31e2653bc"
            ]
          }
        },
        "bc18bb327e58402db48481db123cba5f": {
          "model_module": "@jupyter-widgets/base",
          "model_name": "LayoutModel",
          "state": {
            "_view_name": "LayoutView",
            "grid_template_rows": null,
            "right": null,
            "justify_content": null,
            "_view_module": "@jupyter-widgets/base",
            "overflow": null,
            "_model_module_version": "1.2.0",
            "_view_count": null,
            "flex_flow": null,
            "width": null,
            "min_width": null,
            "border": null,
            "align_items": null,
            "bottom": null,
            "_model_module": "@jupyter-widgets/base",
            "top": null,
            "grid_column": null,
            "overflow_y": null,
            "overflow_x": null,
            "grid_auto_flow": null,
            "grid_area": null,
            "grid_template_columns": null,
            "flex": null,
            "_model_name": "LayoutModel",
            "justify_items": null,
            "grid_row": null,
            "max_height": null,
            "align_content": null,
            "visibility": null,
            "align_self": null,
            "height": null,
            "min_height": null,
            "padding": null,
            "grid_auto_rows": null,
            "grid_gap": null,
            "max_width": null,
            "order": null,
            "_view_module_version": "1.2.0",
            "grid_template_areas": null,
            "object_position": null,
            "object_fit": null,
            "grid_auto_columns": null,
            "margin": null,
            "display": null,
            "left": null
          }
        },
        "063ee627956f428ba50aba27071a9c27": {
          "model_module": "@jupyter-widgets/controls",
          "model_name": "FloatProgressModel",
          "state": {
            "_view_name": "ProgressView",
            "style": "IPY_MODEL_a0c3af1951ed45caa636e10f2a7c6cb0",
            "_dom_classes": [],
            "description": "100%",
            "_model_name": "FloatProgressModel",
            "bar_style": "success",
            "max": 100,
            "_view_module": "@jupyter-widgets/controls",
            "_model_module_version": "1.5.0",
            "value": 100,
            "_view_count": null,
            "_view_module_version": "1.5.0",
            "orientation": "horizontal",
            "min": 0,
            "description_tooltip": null,
            "_model_module": "@jupyter-widgets/controls",
            "layout": "IPY_MODEL_6a24fe4365d3471687ca91956f515ead"
          }
        },
        "3266d8330dab40c2bbe5c8b31e2653bc": {
          "model_module": "@jupyter-widgets/controls",
          "model_name": "HTMLModel",
          "state": {
            "_view_name": "HTMLView",
            "style": "IPY_MODEL_6d2d09a4707648db83f17599534e2862",
            "_dom_classes": [],
            "description": "",
            "_model_name": "HTMLModel",
            "placeholder": "​",
            "_view_module": "@jupyter-widgets/controls",
            "_model_module_version": "1.5.0",
            "value": " 100/100 [54:34&lt;00:00, 32.74s/it]",
            "_view_count": null,
            "_view_module_version": "1.5.0",
            "description_tooltip": null,
            "_model_module": "@jupyter-widgets/controls",
            "layout": "IPY_MODEL_062edf68f0144c5d9e61ff53c4ea84fd"
          }
        },
        "a0c3af1951ed45caa636e10f2a7c6cb0": {
          "model_module": "@jupyter-widgets/controls",
          "model_name": "ProgressStyleModel",
          "state": {
            "_view_name": "StyleView",
            "_model_name": "ProgressStyleModel",
            "description_width": "initial",
            "_view_module": "@jupyter-widgets/base",
            "_model_module_version": "1.5.0",
            "_view_count": null,
            "_view_module_version": "1.2.0",
            "bar_color": null,
            "_model_module": "@jupyter-widgets/controls"
          }
        },
        "6a24fe4365d3471687ca91956f515ead": {
          "model_module": "@jupyter-widgets/base",
          "model_name": "LayoutModel",
          "state": {
            "_view_name": "LayoutView",
            "grid_template_rows": null,
            "right": null,
            "justify_content": null,
            "_view_module": "@jupyter-widgets/base",
            "overflow": null,
            "_model_module_version": "1.2.0",
            "_view_count": null,
            "flex_flow": null,
            "width": null,
            "min_width": null,
            "border": null,
            "align_items": null,
            "bottom": null,
            "_model_module": "@jupyter-widgets/base",
            "top": null,
            "grid_column": null,
            "overflow_y": null,
            "overflow_x": null,
            "grid_auto_flow": null,
            "grid_area": null,
            "grid_template_columns": null,
            "flex": null,
            "_model_name": "LayoutModel",
            "justify_items": null,
            "grid_row": null,
            "max_height": null,
            "align_content": null,
            "visibility": null,
            "align_self": null,
            "height": null,
            "min_height": null,
            "padding": null,
            "grid_auto_rows": null,
            "grid_gap": null,
            "max_width": null,
            "order": null,
            "_view_module_version": "1.2.0",
            "grid_template_areas": null,
            "object_position": null,
            "object_fit": null,
            "grid_auto_columns": null,
            "margin": null,
            "display": null,
            "left": null
          }
        },
        "6d2d09a4707648db83f17599534e2862": {
          "model_module": "@jupyter-widgets/controls",
          "model_name": "DescriptionStyleModel",
          "state": {
            "_view_name": "StyleView",
            "_model_name": "DescriptionStyleModel",
            "description_width": "",
            "_view_module": "@jupyter-widgets/base",
            "_model_module_version": "1.5.0",
            "_view_count": null,
            "_view_module_version": "1.2.0",
            "_model_module": "@jupyter-widgets/controls"
          }
        },
        "062edf68f0144c5d9e61ff53c4ea84fd": {
          "model_module": "@jupyter-widgets/base",
          "model_name": "LayoutModel",
          "state": {
            "_view_name": "LayoutView",
            "grid_template_rows": null,
            "right": null,
            "justify_content": null,
            "_view_module": "@jupyter-widgets/base",
            "overflow": null,
            "_model_module_version": "1.2.0",
            "_view_count": null,
            "flex_flow": null,
            "width": null,
            "min_width": null,
            "border": null,
            "align_items": null,
            "bottom": null,
            "_model_module": "@jupyter-widgets/base",
            "top": null,
            "grid_column": null,
            "overflow_y": null,
            "overflow_x": null,
            "grid_auto_flow": null,
            "grid_area": null,
            "grid_template_columns": null,
            "flex": null,
            "_model_name": "LayoutModel",
            "justify_items": null,
            "grid_row": null,
            "max_height": null,
            "align_content": null,
            "visibility": null,
            "align_self": null,
            "height": null,
            "min_height": null,
            "padding": null,
            "grid_auto_rows": null,
            "grid_gap": null,
            "max_width": null,
            "order": null,
            "_view_module_version": "1.2.0",
            "grid_template_areas": null,
            "object_position": null,
            "object_fit": null,
            "grid_auto_columns": null,
            "margin": null,
            "display": null,
            "left": null
          }
        },
        "3580792db0934193bd0e1620fbed94b0": {
          "model_module": "@jupyter-widgets/controls",
          "model_name": "HBoxModel",
          "state": {
            "_view_name": "HBoxView",
            "_dom_classes": [],
            "_model_name": "HBoxModel",
            "_view_module": "@jupyter-widgets/controls",
            "_model_module_version": "1.5.0",
            "_view_count": null,
            "_view_module_version": "1.5.0",
            "box_style": "",
            "layout": "IPY_MODEL_997042a9d5744e23a188273e193d0c9f",
            "_model_module": "@jupyter-widgets/controls",
            "children": [
              "IPY_MODEL_6d7f23ff46a14269a23d3ee7081db3ec",
              "IPY_MODEL_2029fb008de349abbdabd81bbc9f56d7"
            ]
          }
        },
        "997042a9d5744e23a188273e193d0c9f": {
          "model_module": "@jupyter-widgets/base",
          "model_name": "LayoutModel",
          "state": {
            "_view_name": "LayoutView",
            "grid_template_rows": null,
            "right": null,
            "justify_content": null,
            "_view_module": "@jupyter-widgets/base",
            "overflow": null,
            "_model_module_version": "1.2.0",
            "_view_count": null,
            "flex_flow": null,
            "width": null,
            "min_width": null,
            "border": null,
            "align_items": null,
            "bottom": null,
            "_model_module": "@jupyter-widgets/base",
            "top": null,
            "grid_column": null,
            "overflow_y": null,
            "overflow_x": null,
            "grid_auto_flow": null,
            "grid_area": null,
            "grid_template_columns": null,
            "flex": null,
            "_model_name": "LayoutModel",
            "justify_items": null,
            "grid_row": null,
            "max_height": null,
            "align_content": null,
            "visibility": null,
            "align_self": null,
            "height": null,
            "min_height": null,
            "padding": null,
            "grid_auto_rows": null,
            "grid_gap": null,
            "max_width": null,
            "order": null,
            "_view_module_version": "1.2.0",
            "grid_template_areas": null,
            "object_position": null,
            "object_fit": null,
            "grid_auto_columns": null,
            "margin": null,
            "display": null,
            "left": null
          }
        },
        "6d7f23ff46a14269a23d3ee7081db3ec": {
          "model_module": "@jupyter-widgets/controls",
          "model_name": "FloatProgressModel",
          "state": {
            "_view_name": "ProgressView",
            "style": "IPY_MODEL_69987f3cdc864cb587356da982402e0d",
            "_dom_classes": [],
            "description": "100%",
            "_model_name": "FloatProgressModel",
            "bar_style": "success",
            "max": 100,
            "_view_module": "@jupyter-widgets/controls",
            "_model_module_version": "1.5.0",
            "value": 100,
            "_view_count": null,
            "_view_module_version": "1.5.0",
            "orientation": "horizontal",
            "min": 0,
            "description_tooltip": null,
            "_model_module": "@jupyter-widgets/controls",
            "layout": "IPY_MODEL_4e146d7c190b4c46ac7c4a9bee097f65"
          }
        },
        "2029fb008de349abbdabd81bbc9f56d7": {
          "model_module": "@jupyter-widgets/controls",
          "model_name": "HTMLModel",
          "state": {
            "_view_name": "HTMLView",
            "style": "IPY_MODEL_625f3670b070412eb1a168eeb9fa5334",
            "_dom_classes": [],
            "description": "",
            "_model_name": "HTMLModel",
            "placeholder": "​",
            "_view_module": "@jupyter-widgets/controls",
            "_model_module_version": "1.5.0",
            "value": " 100/100 [3:49:02&lt;00:00, 137.43s/it]",
            "_view_count": null,
            "_view_module_version": "1.5.0",
            "description_tooltip": null,
            "_model_module": "@jupyter-widgets/controls",
            "layout": "IPY_MODEL_274a37fefa2540809c8b44500d715c22"
          }
        },
        "69987f3cdc864cb587356da982402e0d": {
          "model_module": "@jupyter-widgets/controls",
          "model_name": "ProgressStyleModel",
          "state": {
            "_view_name": "StyleView",
            "_model_name": "ProgressStyleModel",
            "description_width": "initial",
            "_view_module": "@jupyter-widgets/base",
            "_model_module_version": "1.5.0",
            "_view_count": null,
            "_view_module_version": "1.2.0",
            "bar_color": null,
            "_model_module": "@jupyter-widgets/controls"
          }
        },
        "4e146d7c190b4c46ac7c4a9bee097f65": {
          "model_module": "@jupyter-widgets/base",
          "model_name": "LayoutModel",
          "state": {
            "_view_name": "LayoutView",
            "grid_template_rows": null,
            "right": null,
            "justify_content": null,
            "_view_module": "@jupyter-widgets/base",
            "overflow": null,
            "_model_module_version": "1.2.0",
            "_view_count": null,
            "flex_flow": null,
            "width": null,
            "min_width": null,
            "border": null,
            "align_items": null,
            "bottom": null,
            "_model_module": "@jupyter-widgets/base",
            "top": null,
            "grid_column": null,
            "overflow_y": null,
            "overflow_x": null,
            "grid_auto_flow": null,
            "grid_area": null,
            "grid_template_columns": null,
            "flex": null,
            "_model_name": "LayoutModel",
            "justify_items": null,
            "grid_row": null,
            "max_height": null,
            "align_content": null,
            "visibility": null,
            "align_self": null,
            "height": null,
            "min_height": null,
            "padding": null,
            "grid_auto_rows": null,
            "grid_gap": null,
            "max_width": null,
            "order": null,
            "_view_module_version": "1.2.0",
            "grid_template_areas": null,
            "object_position": null,
            "object_fit": null,
            "grid_auto_columns": null,
            "margin": null,
            "display": null,
            "left": null
          }
        },
        "625f3670b070412eb1a168eeb9fa5334": {
          "model_module": "@jupyter-widgets/controls",
          "model_name": "DescriptionStyleModel",
          "state": {
            "_view_name": "StyleView",
            "_model_name": "DescriptionStyleModel",
            "description_width": "",
            "_view_module": "@jupyter-widgets/base",
            "_model_module_version": "1.5.0",
            "_view_count": null,
            "_view_module_version": "1.2.0",
            "_model_module": "@jupyter-widgets/controls"
          }
        },
        "274a37fefa2540809c8b44500d715c22": {
          "model_module": "@jupyter-widgets/base",
          "model_name": "LayoutModel",
          "state": {
            "_view_name": "LayoutView",
            "grid_template_rows": null,
            "right": null,
            "justify_content": null,
            "_view_module": "@jupyter-widgets/base",
            "overflow": null,
            "_model_module_version": "1.2.0",
            "_view_count": null,
            "flex_flow": null,
            "width": null,
            "min_width": null,
            "border": null,
            "align_items": null,
            "bottom": null,
            "_model_module": "@jupyter-widgets/base",
            "top": null,
            "grid_column": null,
            "overflow_y": null,
            "overflow_x": null,
            "grid_auto_flow": null,
            "grid_area": null,
            "grid_template_columns": null,
            "flex": null,
            "_model_name": "LayoutModel",
            "justify_items": null,
            "grid_row": null,
            "max_height": null,
            "align_content": null,
            "visibility": null,
            "align_self": null,
            "height": null,
            "min_height": null,
            "padding": null,
            "grid_auto_rows": null,
            "grid_gap": null,
            "max_width": null,
            "order": null,
            "_view_module_version": "1.2.0",
            "grid_template_areas": null,
            "object_position": null,
            "object_fit": null,
            "grid_auto_columns": null,
            "margin": null,
            "display": null,
            "left": null
          }
        }
      }
    }
  },
  "cells": [
    {
      "cell_type": "code",
      "metadata": {
        "id": "-vcZj6a4A4jE",
        "colab": {
          "base_uri": "https://localhost:8080/"
        },
        "outputId": "85708ca7-936b-491e-c25f-4cea2b843303"
      },
      "source": [
        "import gym\n",
        "\n",
        "import matplotlib as mpl\n",
        "import matplotlib.pyplot as plt\n",
        "import seaborn as sns\n",
        "import json\n",
        "import math\n",
        "import random\n",
        "import numpy as np\n",
        "import scipy as sp\n",
        "import scipy.stats as st\n",
        "import scipy.integrate as integrate\n",
        "from scipy.stats import multivariate_normal\n",
        "from sklearn import linear_model\n",
        "from sklearn.utils.testing import ignore_warnings\n",
        "from sklearn.exceptions import ConvergenceWarning\n",
        "import statsmodels.api as sm\n",
        "from matplotlib.colors import LogNorm\n",
        "import pickle\n",
        "\n",
        "from collections import defaultdict\n",
        "from tqdm import tqdm_notebook\n",
        "\n",
        "from joblib import Parallel, delayed\n",
        "import multiprocessing\n",
        "from collections import namedtuple\n",
        "from itertools import count\n",
        "\n",
        "import cProfile\n",
        "from datetime import datetime\n",
        "\n",
        "import torch\n",
        "import torch.nn as nn\n",
        "import torch.optim as optim\n",
        "import torch.nn.functional as F\n",
        "import torchvision.transforms as T\n",
        "from torch.autograd import Variable\n",
        "\n",
        "sns.set_style(\"whitegrid\")\n",
        "sns.set_palette(\"colorblind\")\n",
        "palette = sns.color_palette()\n",
        "figsize = (15,8)\n",
        "legend_fontsize = 16\n",
        "\n",
        "# from matplotlib import rc\n",
        "# rc('font',**{'family':'sans-serif'})\n",
        "# rc('text', usetex=True)\n",
        "# rc('text.latex',preamble=r'\\usepackage[utf8]{inputenc}')\n",
        "# rc('text.latex',preamble=r'\\usepackage[russian]{babel}')\n",
        "# rc('figure', **{'dpi': 300})"
      ],
      "execution_count": 1,
      "outputs": [
        {
          "output_type": "stream",
          "text": [
            "/usr/local/lib/python3.6/dist-packages/sklearn/utils/deprecation.py:144: FutureWarning: The sklearn.utils.testing module is  deprecated in version 0.22 and will be removed in version 0.24. The corresponding classes / functions should instead be imported from sklearn.utils. Anything that cannot be imported from sklearn.utils is now part of the private API.\n",
            "  warnings.warn(message, FutureWarning)\n",
            "/usr/local/lib/python3.6/dist-packages/statsmodels/tools/_testing.py:19: FutureWarning: pandas.util.testing is deprecated. Use the functions in the public API at pandas.testing instead.\n",
            "  import pandas.util.testing as tm\n"
          ],
          "name": "stderr"
        }
      ]
    },
    {
      "cell_type": "markdown",
      "metadata": {
        "id": "Kg4ceOExA4jF"
      },
      "source": [
        "## Реализуем крестики-нолики"
      ]
    },
    {
      "cell_type": "code",
      "metadata": {
        "id": "wPeRbNCQA4jF"
      },
      "source": [
        "N_ROWS, N_COLS, N_WIN = 3, 3, 3"
      ],
      "execution_count": 2,
      "outputs": []
    },
    {
      "cell_type": "code",
      "metadata": {
        "id": "aBwIhBowA4jF"
      },
      "source": [
        "class TicTacToe(gym.Env):\n",
        "    def __init__(self, n_rows=N_ROWS, n_cols=N_COLS, n_win=N_WIN):\n",
        "        self.n_rows = n_rows\n",
        "        self.n_cols = n_cols\n",
        "        self.n_win = n_win\n",
        "\n",
        "        self.board = np.zeros((self.n_rows, self.n_cols), dtype=int)\n",
        "        self.gameOver = False\n",
        "        self.boardHash = None\n",
        "        # ход первого игрока\n",
        "        self.curTurn = 1\n",
        "        self.emptySpaces = None\n",
        "        \n",
        "        self.reset()\n",
        "\n",
        "    def getEmptySpaces(self):\n",
        "        if self.emptySpaces is None:\n",
        "            res = np.where(self.board == 0)\n",
        "            self.emptySpaces = np.array([ (i, j) for i,j in zip(res[0], res[1]) ])\n",
        "        return self.emptySpaces\n",
        "\n",
        "    def makeMove(self, player, i, j):\n",
        "        self.board[i, j] = player\n",
        "        self.emptySpaces = None\n",
        "        self.boardHash = None\n",
        "\n",
        "    def getHash(self):\n",
        "        if self.boardHash is None:\n",
        "            self.boardHash = ''.join(['%s' % (x+1) for x in self.board.reshape(self.n_rows * self.n_cols)])\n",
        "        return self.boardHash\n",
        "\n",
        "    def isTerminal(self):\n",
        "        # проверим, не закончилась ли игра\n",
        "        cur_marks, cur_p = np.where(self.board == self.curTurn), self.curTurn\n",
        "        for i,j in zip(cur_marks[0], cur_marks[1]):\n",
        "#             print((i,j))\n",
        "            win = False\n",
        "            if i <= self.n_rows - self.n_win:\n",
        "                if np.all(self.board[i:i+self.n_win, j] == cur_p):\n",
        "                    win = True\n",
        "            if not win:\n",
        "                if j <= self.n_cols - self.n_win:\n",
        "                    if np.all(self.board[i,j:j+self.n_win] == cur_p):\n",
        "                        win = True\n",
        "            if not win:\n",
        "                if i <= self.n_rows - self.n_win and j <= self.n_cols - self.n_win:\n",
        "                    if np.all(np.array([ self.board[i+k,j+k] == cur_p for k in range(self.n_win) ])):\n",
        "                        win = True\n",
        "            if not win:\n",
        "                if i <= self.n_rows - self.n_win and j >= self.n_win-1:\n",
        "                    if np.all(np.array([ self.board[i+k,j-k] == cur_p for k in range(self.n_win) ])):\n",
        "                        win = True\n",
        "            if win:\n",
        "                self.gameOver = True\n",
        "                return self.curTurn\n",
        "\n",
        "        if len(self.getEmptySpaces()) == 0:\n",
        "            self.gameOver = True\n",
        "            return 0\n",
        "\n",
        "        self.gameOver = False\n",
        "        return None\n",
        "\n",
        "    def printBoard(self):\n",
        "        for i in range(0, self.n_rows):\n",
        "            print('----'*(self.n_cols)+'-')\n",
        "            out = '| '\n",
        "            for j in range(0, self.n_cols):\n",
        "                if self.board[i, j] == 1:\n",
        "                    token = 'x'\n",
        "                if self.board[i, j] == -1:\n",
        "                    token = 'o'\n",
        "                if self.board[i, j] == 0:\n",
        "                    token = ' '\n",
        "                out += token + ' | '\n",
        "            print(out)\n",
        "        print('----'*(self.n_cols)+'-')\n",
        "\n",
        "    # def getState(self):\n",
        "    #     return (self.getHash(), ''.join([str(self.int_from_action(x)) for x in self.getEmptySpaces()]), self.curTurn)\n",
        "    def getState(self):\n",
        "        return (self.getHash(), self.getEmptySpaces(), self.curTurn)\n",
        "\n",
        "    def action_from_int(self, action_int):\n",
        "        return (int(action_int / self.n_cols), int(action_int % self.n_cols))\n",
        "\n",
        "    def int_from_action(self, action):\n",
        "        return action[0] * self.n_cols + action[1]\n",
        "    \n",
        "    def step(self, action):\n",
        "        action = self.action_from_int(action)\n",
        "        if self.board[action[0], action[1]] != 0:\n",
        "            return self.getState(), -10, True, {}\n",
        "        self.makeMove(self.curTurn, action[0], action[1])\n",
        "        reward = self.isTerminal()\n",
        "        self.curTurn = -self.curTurn\n",
        "        return self.getState(), 0 if reward is None else reward, reward is not None, {}\n",
        "\n",
        "    def reset(self):\n",
        "        self.board = np.zeros((self.n_rows, self.n_cols), dtype=int)\n",
        "        self.boardHash = None\n",
        "        self.gameOver = False\n",
        "        self.emptySpaces = None\n",
        "        self.curTurn = 1"
      ],
      "execution_count": 3,
      "outputs": []
    },
    {
      "cell_type": "code",
      "metadata": {
        "id": "0nlcq7bAA4jF"
      },
      "source": [
        "def plot_board(env, pi, showtext=True, verbose=True, fontq=20, fontx=60):\n",
        "    '''Рисуем доску с оценками из стратегии pi'''\n",
        "    fig, ax = plt.subplots(1, 1, figsize=(8, 8))\n",
        "    X, Y = np.meshgrid(np.arange(0, env.n_rows), np.arange(0, env.n_rows))\n",
        "    Z = np.zeros((env.n_rows, env.n_cols)) + .01\n",
        "    s, actions = env.getHash(), env.getEmptySpaces()\n",
        "    if pi is not None and s in pi.Q:\n",
        "        for i, a in enumerate(actions):\n",
        "            Z[a[0], a[1]] = pi.Q[s][i]\n",
        "    ax.set_xticks([])\n",
        "    ax.set_yticks([])\n",
        "    surf = ax.imshow(Z, cmap=plt.get_cmap('Accent', 10), vmin=-1, vmax=1)\n",
        "    if showtext:\n",
        "        for i, a in enumerate(actions):\n",
        "            if pi is not None and s in pi.Q:\n",
        "                ax.text( a[1] , a[0] , \"%.3f\" % (pi.Q[s][i]), fontsize=fontq, horizontalalignment='center', verticalalignment='center', color=\"w\" )\n",
        "#             else:\n",
        "#                 ax.text( a[1] , a[0] , \"???\", fontsize=fontq, horizontalalignment='center', verticalalignment='center', color=\"w\" )\n",
        "    for i in range(env.n_rows):\n",
        "        for j in range(env.n_cols):\n",
        "            if env.board[i, j] == -1:\n",
        "                ax.text(j, i, \"O\", fontsize=fontx, horizontalalignment='center', verticalalignment='center', color=\"w\" )\n",
        "            if env.board[i, j] == 1:\n",
        "                ax.text(j, i, \"X\", fontsize=fontx, horizontalalignment='center', verticalalignment='center', color=\"w\" )\n",
        "    cbar = plt.colorbar(surf, ticks=[0, 1])\n",
        "    ax.grid(False)\n",
        "    plt.show()\n",
        "\n",
        "def get_and_print_move(env, pi, s, actions, random=False, verbose=True, fontq=20, fontx=60):\n",
        "    '''Делаем ход, рисуем доску'''\n",
        "    plot_board(env, pi, fontq=fontq, fontx=fontx)\n",
        "    if verbose and (pi is not None):\n",
        "        if s in pi.Q:\n",
        "            for i,a in enumerate(actions):\n",
        "                print(i, a, pi.Q[s][i])\n",
        "        else:\n",
        "            print(\"Стратегия не знает, что делать...\")\n",
        "    if random:\n",
        "        new_action = env.int_from_action(actions[np.random.randint(len(actions))])\n",
        "    else:\n",
        "        new_action = pi.getAction(s, eps=0)\n",
        "    return new_action"
      ],
      "execution_count": 4,
      "outputs": []
    },
    {
      "cell_type": "code",
      "metadata": {
        "id": "d37fFTtZA4jF"
      },
      "source": [
        "def plot_test_game(env, pi1, pi2, random_crosses=False, random_naughts=True, verbose=True, fontq=20, fontx=60):\n",
        "    '''Играем тестовую партию между стратегиями или со случайными ходами, рисуем ход игры'''\n",
        "    done = False\n",
        "    env.reset()\n",
        "    while not done:\n",
        "        s, actions = env.getHash(), env.getEmptySpaces()\n",
        "        if env.curTurn == 1:\n",
        "            a = get_and_print_move(env, pi1, s, actions, random=random_crosses, verbose=verbose, fontq=fontq, fontx=fontx)\n",
        "        else:\n",
        "            a = get_and_print_move(env, pi2, s, actions, random=random_naughts, verbose=verbose, fontq=fontq, fontx=fontx)\n",
        "        print(f\"Current action:{a}\")\n",
        "        observation, reward, done, info = env.step(a)\n",
        "        if reward == 1:\n",
        "            print(\"Крестики выиграли!\")\n",
        "            plot_board(env, None, showtext=False, fontq=fontq, fontx=fontx)\n",
        "        if reward == -1:\n",
        "            print(\"Нолики выиграли!\")\n",
        "            plot_board(env, None, showtext=False, fontq=fontq, fontx=fontx)"
      ],
      "execution_count": 5,
      "outputs": []
    },
    {
      "cell_type": "code",
      "metadata": {
        "id": "at3Ji0T6A4jF",
        "scrolled": false
      },
      "source": [
        "# plot_test_game(env, None, None, random_crosses=True, random_naughts=True, verbose=True, fontx=20)"
      ],
      "execution_count": 6,
      "outputs": []
    },
    {
      "cell_type": "markdown",
      "metadata": {
        "id": "HNhS8ibeujZE"
      },
      "source": [
        "# Q learning"
      ]
    },
    {
      "cell_type": "code",
      "metadata": {
        "id": "1I1t7TyKTub4"
      },
      "source": [
        "class Policy(object):\n",
        "  def __init__(self, Q, N_ROWS, N_COLS):\n",
        "    self.Q = Q\n",
        "    self.n_rows = N_ROWS\n",
        "    self.n_cols = N_COLS\n",
        "\n",
        "  def getAction(self, s, eps):\n",
        "    return (np.argmax(self.Q[s])\n",
        "              if np.random.rand() > eps \n",
        "              else np.random.randint(self.n_rows * self.n_cols))\n",
        "  \n",
        "  def updateQ(self, s, a, s_prime=None, reward=0, alpha=0.05, gamma=0.9, done=False):\n",
        "    if not done and not s_prime:\n",
        "      raise Exception(\"Done is False but s_prime is not provided\")\n",
        "\n",
        "    if not s_prime:\n",
        "        self.Q[s][a] = reward\n",
        "        # self.Q[s][a] = self.Q[s][a] + alpha * (reward - self.Q[s][a])\n",
        "    else:\n",
        "      self.Q[s][a] = self.Q[s][a] + alpha * (reward + gamma * np.max(self.Q[s_prime]) - self.Q[s][a])"
      ],
      "execution_count": 7,
      "outputs": []
    },
    {
      "cell_type": "code",
      "metadata": {
        "id": "V1xXHFMvNSTR"
      },
      "source": [
        "def calc_real_reward(cur_turn, me, reward):\n",
        "  if (cur_turn == me) and (reward == -10):\n",
        "    real_reward = -10\n",
        "  if (cur_turn != me) and (reward == -10):\n",
        "    raise Exception(\"Opponent made bad choose\")\n",
        "  if (reward != -10):\n",
        "    real_reward = me * reward\n",
        "  return real_reward"
      ],
      "execution_count": 8,
      "outputs": []
    },
    {
      "cell_type": "code",
      "metadata": {
        "id": "kzedJkVs9XQb"
      },
      "source": [
        "def Q_learning_episode(env, pi1, pi2, alpha=0.05, epsilon=0.0, gamma=0.9):\n",
        "    env.reset()\n",
        "    cur_turn = 1\n",
        "    s = env.getState()[0]\n",
        "    a_crosses_prev = None\n",
        "    a_naughts_prev = None\n",
        "    s_naughts_prev = None\n",
        "    s_crosses_prev = None\n",
        "    done = False\n",
        "    while not done:\n",
        "      if cur_turn == 1:\n",
        "        a = pi1.getAction(s, epsilon)\n",
        "        observation, reward, done, info = env.step(a)\n",
        "        cur_turn_prime = observation[-1]\n",
        "        if done:\n",
        "            pi1.updateQ(s, a, reward=reward, alpha=alpha, gamma=gamma, done=done)\n",
        "# If we chose the wrong action, we should not update the other side's state, so break            \n",
        "            if reward == -10:\n",
        "              break\n",
        "# Now it becomes previous state for crosses\n",
        "        s_crosses_prev = s\n",
        "        a_crosses_prev = a\n",
        "        s_prime = observation[0]\n",
        "\n",
        "        if s_naughts_prev:\n",
        "# If we won, we should give negative reward to the opponent\n",
        "           pi2.updateQ(s_naughts_prev, a_naughts_prev, s_prime, reward=-reward, alpha=alpha, gamma=gamma, done=done)\n",
        "\n",
        "      else:\n",
        "        a = pi2.getAction(s, epsilon)\n",
        "        observation, reward, done, info = env.step(a)\n",
        "        cur_turn_prime = observation[-1]\n",
        "        if done:\n",
        "# If we won, the we should give positive reward\n",
        "            if reward == -1:\n",
        "              pi2.updateQ(s, a, reward=-reward, alpha=alpha, gamma=gamma, done=done)\n",
        "# Else happens when reward is -10\n",
        "            else:\n",
        "              pi2.updateQ(s, a, reward=reward, alpha=alpha, gamma=gamma, done=done)\n",
        "# If we chose the wrong action, we should not update the other side's state, so break  \n",
        "              break              \n",
        "# Now it becomes previous state for naughts\n",
        "        s_naughts_prev = s\n",
        "        a_naughts_prev = a\n",
        "        s_prime = observation[0]\n",
        "# If we won, we should give negative reward to the opponent. In this part the negative one is the reward        \n",
        "        pi1.updateQ(s_crosses_prev, a_crosses_prev, s_prime, reward=reward, alpha=alpha, gamma=gamma, done=done)\n",
        "\n",
        "      s = s_prime\n",
        "      cur_turn = cur_turn_prime"
      ],
      "execution_count": 9,
      "outputs": []
    },
    {
      "cell_type": "code",
      "metadata": {
        "id": "pL0lk7UNYFtG"
      },
      "source": [
        "def test_strategy(env, pi, me=None):\n",
        "  env.reset()\n",
        "  s = env.getState()[0]\n",
        "  if me:\n",
        "    a = pi.getAction(s, eps=0)\n",
        "  else:\n",
        "    a = pi.getAction(s, eps=1)\n",
        "\n",
        "  while(1):\n",
        "    observations, reward, done, _ = env.step(a)\n",
        "    s = observations[0]\n",
        "    cur_turn = observations[-1]\n",
        "# Calculate real reward\n",
        "    if done:\n",
        "      real_reward = calc_real_reward(cur_turn, me, reward)\n",
        "      return real_reward\n",
        "# Choose action    \n",
        "    if cur_turn == me:\n",
        "      a = pi.getAction(s, eps=0)\n",
        "    else:\n",
        "      available_actions = [env.int_from_action(x) for x in env.getEmptySpaces()]\n",
        "      a = np.random.choice(available_actions)"
      ],
      "execution_count": 10,
      "outputs": []
    },
    {
      "cell_type": "markdown",
      "metadata": {
        "id": "ZbrEBW-LYBmJ"
      },
      "source": [
        "## Train"
      ]
    },
    {
      "cell_type": "code",
      "metadata": {
        "id": "yl93qJjAK2xj"
      },
      "source": [
        "def train(env, pi1=None, pi2=None, total_episodes=100000, total_episodes_test=10000, \n",
        "          episodes_estimation_interval=10000, epsilon=0.1, alpha=0.05, gamma=0.9):\n",
        "  if not pi1:\n",
        "    Q1 = defaultdict(lambda: np.random.random(env.n_rows * env.n_cols))\n",
        "    pi1 = Policy(Q1, env.n_rows, env.n_cols)\n",
        "  if not pi2:\n",
        "    Q2 = defaultdict(lambda: np.random.random(env.n_rows * env.n_cols))\n",
        "    pi2 = Policy(Q2, env.n_rows, env.n_cols)\n",
        "  \n",
        "  Q_wins = []\n",
        "  Q_loses = []\n",
        "  Q_draws = []\n",
        "  Q_crashes = []\n",
        "  for i in tqdm_notebook(range(total_episodes)):\n",
        "      if i % episodes_estimation_interval == 0:\n",
        "        wins = 0\n",
        "        loses = 0\n",
        "        draws = 0\n",
        "        crashes = 0\n",
        "        for _ in range(total_episodes_test):\n",
        "          me = np.random.choice([-1, 1])\n",
        "          if me == 1:\n",
        "            reward = test_strategy(env, pi1, me)\n",
        "          else:\n",
        "            reward = test_strategy(env, pi2, me)\n",
        "          if reward == -1:\n",
        "            loses += 1\n",
        "          elif reward == 1:\n",
        "            wins += 1\n",
        "          elif reward == 0:\n",
        "            draws += 1\n",
        "          else:\n",
        "            crashes += 1\n",
        "        Q_wins.append(wins / total_episodes_test)\n",
        "        Q_loses.append(loses / total_episodes_test)\n",
        "        Q_draws.append(draws / total_episodes_test)\n",
        "        Q_crashes.append(crashes / total_episodes_test)\n",
        "        print(f\"Wins:{Q_wins[-1]}, Loses:{Q_loses[-1]}, Draws:{Q_draws[-1]}, Crashes:{Q_crashes[-1]}\")\n",
        "      Q_learning_episode(env, pi1, pi2, epsilon=epsilon, alpha=alpha, gamma=gamma)\n",
        "      \n",
        "      \n",
        "  wins = 0\n",
        "  loses = 0\n",
        "  draws = 0\n",
        "  crashes = 0\n",
        "  for _ in range(total_episodes_test):\n",
        "    me = np.random.choice([-1, 1])\n",
        "    if me == 1:\n",
        "      reward = test_strategy(env, pi1, me)\n",
        "    else:\n",
        "      reward = test_strategy(env, pi2, me)\n",
        "    if reward == -1:\n",
        "      loses += 1\n",
        "    elif reward == 1:\n",
        "      wins += 1\n",
        "    elif reward == 0:\n",
        "      draws += 1\n",
        "    else:\n",
        "      crashes += 1\n",
        "  Q_wins.append(wins / total_episodes_test)\n",
        "  Q_loses.append(loses / total_episodes_test)\n",
        "  Q_draws.append(draws / total_episodes_test)\n",
        "  Q_crashes.append(crashes / total_episodes_test)\n",
        "  print(f\"Wins:{Q_wins[-1]}, Loses:{Q_loses[-1]}, Draws:{Q_draws[-1]}, Crashes:{Q_crashes[-1]}\")\n",
        "  return pi1, pi2, Q_wins, Q_loses, Q_draws, Q_crashes"
      ],
      "execution_count": 11,
      "outputs": []
    },
    {
      "cell_type": "markdown",
      "metadata": {
        "id": "YqTenx81YVUN"
      },
      "source": [
        "## 3x3"
      ]
    },
    {
      "cell_type": "code",
      "metadata": {
        "id": "LzWB272yJg2G",
        "colab": {
          "base_uri": "https://localhost:8080/",
          "height": 304,
          "referenced_widgets": [
            "aa23370f93e44216b7e6b7046746ea99",
            "0a93e6e698b84bf9a64fc6322649e18c",
            "c7d0c8114e0a433e84856a7ca3945241",
            "65cbaeed74284853923a185da1bbbc20",
            "64454e466ba64a6faa009c574a4dd2b0",
            "d354428d3d954b7a891a1199c7a9ca0b",
            "1def6be141794cf5b80be32841dad17f",
            "c929935adc194875be29b76d53270869"
          ]
        },
        "outputId": "114de316-1228-41ca-cfd7-bb57f06c704a"
      },
      "source": [
        "env = TicTacToe(n_rows=N_ROWS, n_cols=N_COLS, n_win=N_WIN)\n",
        "pi1, pi2, Q_wins, Q_loses, Q_draws, Q_crashes = train(env, \n",
        "                                     total_episodes=300000,\n",
        "                                     total_episodes_test=10000,\n",
        "                                     episodes_estimation_interval=30000,\n",
        "                                     epsilon=0.3,\n",
        "                                     alpha=0.01,\n",
        "                                     gamma=1,\n",
        "                                     )"
      ],
      "execution_count": null,
      "outputs": [
        {
          "output_type": "stream",
          "text": [
            "/usr/local/lib/python3.6/dist-packages/ipykernel_launcher.py:14: TqdmDeprecationWarning: This function will be removed in tqdm==5.0.0\n",
            "Please use `tqdm.notebook.tqdm` instead of `tqdm.tqdm_notebook`\n",
            "  \n"
          ],
          "name": "stderr"
        },
        {
          "output_type": "display_data",
          "data": {
            "application/vnd.jupyter.widget-view+json": {
              "model_id": "aa23370f93e44216b7e6b7046746ea99",
              "version_minor": 0,
              "version_major": 2
            },
            "text/plain": [
              "HBox(children=(FloatProgress(value=0.0, max=300000.0), HTML(value='')))"
            ]
          },
          "metadata": {
            "tags": []
          }
        },
        {
          "output_type": "stream",
          "text": [
            "Wins:0.0979, Loses:0.1482, Draws:0.0125, Crashes:0.7414\n",
            "Wins:0.4831, Loses:0.1679, Draws:0.0934, Crashes:0.2556\n",
            "Wins:0.6725, Loses:0.1319, Draws:0.0656, Crashes:0.13\n",
            "Wins:0.8357, Loses:0.0659, Draws:0.0733, Crashes:0.0251\n",
            "Wins:0.8837, Loses:0.0284, Draws:0.0669, Crashes:0.021\n",
            "Wins:0.9039, Loses:0.0224, Draws:0.0618, Crashes:0.0119\n",
            "Wins:0.7399, Loses:0.18, Draws:0.0576, Crashes:0.0225\n",
            "Wins:0.9218, Loses:0.0232, Draws:0.052, Crashes:0.003\n",
            "Wins:0.926, Loses:0.0164, Draws:0.0576, Crashes:0.0\n",
            "Wins:0.9426, Loses:0.0104, Draws:0.047, Crashes:0.0\n",
            "\n",
            "Wins:0.927, Loses:0.0137, Draws:0.0579, Crashes:0.0014\n"
          ],
          "name": "stdout"
        }
      ]
    },
    {
      "cell_type": "code",
      "metadata": {
        "colab": {
          "base_uri": "https://localhost:8080/",
          "height": 434
        },
        "id": "UbgMV2TI4k6m",
        "outputId": "b2c983dd-89b6-4b7f-cbb6-88510919aea2"
      },
      "source": [
        "fig = plt.figure(figsize=(12, 6))\n",
        "plt.plot(list(range(len(Q_wins))), Q_wins, label=\"wins ratio\")\n",
        "plt.plot(list(range(len(Q_loses))), Q_loses, label=\"loses ratio\")\n",
        "plt.plot(list(range(len(Q_draws))), Q_draws, label=\"draws ratio\")\n",
        "plt.suptitle(\"Win/loses/draws ratios by steps\", color='white')\n",
        "plt.legend()"
      ],
      "execution_count": null,
      "outputs": [
        {
          "output_type": "execute_result",
          "data": {
            "text/plain": [
              "<matplotlib.legend.Legend at 0x7f622e5ea320>"
            ]
          },
          "metadata": {
            "tags": []
          },
          "execution_count": 71
        },
        {
          "output_type": "display_data",
          "data": {
            "image/png": "[encoded data removed]",
            "text/plain": [
              "<Figure size 864x432 with 1 Axes>"
            ]
          },
          "metadata": {
            "tags": []
          }
        }
      ]
    },
    {
      "cell_type": "code",
      "metadata": {
        "colab": {
          "base_uri": "https://localhost:8080/",
          "height": 1000
        },
        "id": "xK0I0lpQTRIr",
        "outputId": "22f67d2f-e5a2-4f7a-8d5e-9f2bde4055d0"
      },
      "source": [
        "plot_test_game(env, pi1=pi1, pi2=pi2)"
      ],
      "execution_count": null,
      "outputs": [
        {
          "output_type": "display_data",
          "data": {
            "image/png": "[encoded data removed]",
            "text/plain": [
              "<Figure size 576x576 with 2 Axes>"
            ]
          },
          "metadata": {
            "tags": []
          }
        },
        {
          "output_type": "stream",
          "text": [
            "0 [0 0] 0.43950272450145933\n",
            "1 [0 1] 0.45072411580379135\n",
            "2 [0 2] 0.4473683599144372\n",
            "3 [1 0] 0.45111031882597846\n",
            "4 [1 1] 0.45007837828423447\n",
            "5 [1 2] 0.449072222949019\n",
            "6 [2 0] 0.45121739793221965\n",
            "7 [2 1] 0.43167518602093924\n",
            "8 [2 2] 0.4508192816057513\n",
            "Current action:6\n"
          ],
          "name": "stdout"
        },
        {
          "output_type": "display_data",
          "data": {
            "image/png": "[encoded data removed]",
            "text/plain": [
              "<Figure size 576x576 with 2 Axes>"
            ]
          },
          "metadata": {
            "tags": []
          }
        },
        {
          "output_type": "stream",
          "text": [
            "0 [0 0] 0.319560221953466\n",
            "1 [0 1] 0.3184512662894583\n",
            "2 [0 2] 0.30225590969897553\n",
            "3 [1 0] 0.2786081798349499\n",
            "4 [1 1] 0.9749831204308987\n",
            "5 [1 2] 0.32627563652023517\n",
            "6 [2 1] -10.0\n",
            "7 [2 2] 0.6463510810859818\n",
            "Current action:8\n"
          ],
          "name": "stdout"
        },
        {
          "output_type": "display_data",
          "data": {
            "image/png": "[encoded data removed]",
            "text/plain": [
              "<Figure size 576x576 with 2 Axes>"
            ]
          },
          "metadata": {
            "tags": []
          }
        },
        {
          "output_type": "stream",
          "text": [
            "0 [0 0] 0.7261172263970274\n",
            "1 [0 1] 0.6291780314742166\n",
            "2 [0 2] 0.6366621120100222\n",
            "3 [1 0] 0.8144006585658903\n",
            "4 [1 1] 0.9697397452478856\n",
            "5 [1 2] 0.8504081553405964\n",
            "6 [2 1] -10.0\n",
            "Current action:4\n"
          ],
          "name": "stdout"
        },
        {
          "output_type": "display_data",
          "data": {
            "image/png": "[encoded data removed]",
            "text/plain": [
              "<Figure size 576x576 with 2 Axes>"
            ]
          },
          "metadata": {
            "tags": []
          }
        },
        {
          "output_type": "stream",
          "text": [
            "0 [0 0] 0.18218500557621425\n",
            "1 [0 1] 0.17339569968050547\n",
            "2 [0 2] 0.265716624738491\n",
            "3 [1 0] 0.17880813046695743\n",
            "4 [1 2] -10.0\n",
            "5 [2 1] 0.19395826520185944\n",
            "Current action:7\n"
          ],
          "name": "stdout"
        },
        {
          "output_type": "display_data",
          "data": {
            "image/png": "[encoded data removed]",
            "text/plain": [
              "<Figure size 576x576 with 2 Axes>"
            ]
          },
          "metadata": {
            "tags": []
          }
        },
        {
          "output_type": "stream",
          "text": [
            "0 [0 0] 0.1376859353721228\n",
            "1 [0 1] 0.8558672526718792\n",
            "2 [0 2] 1.0\n",
            "3 [1 0] 0.5861906285625376\n",
            "4 [1 2] -10.0\n",
            "Current action:2\n",
            "Крестики выиграли!\n"
          ],
          "name": "stdout"
        },
        {
          "output_type": "display_data",
          "data": {
            "image/png": "[encoded data removed]",
            "text/plain": [
              "<Figure size 576x576 with 2 Axes>"
            ]
          },
          "metadata": {
            "tags": []
          }
        }
      ]
    },
    {
      "cell_type": "markdown",
      "metadata": {
        "id": "OGjCWcDuYUoX"
      },
      "source": [
        "## 4x4"
      ]
    },
    {
      "cell_type": "code",
      "metadata": {
        "id": "fFuJA8WkaScB"
      },
      "source": [
        "N_ROWS, N_COLS, N_WIN = 4, 4, 4"
      ],
      "execution_count": null,
      "outputs": []
    },
    {
      "cell_type": "code",
      "metadata": {
        "colab": {
          "base_uri": "https://localhost:8080/",
          "height": 304,
          "referenced_widgets": [
            "ebba2baede0943d0803fcd297ba953ce",
            "2769b9e436454d679e04cb3985c58843",
            "ead1015148cc41c19c77fec1984c0927",
            "b839476d56a84a9bb14dec98d10c5e67",
            "fb5e8359320540059a07101941810725",
            "3ee61906eaba4750935e72d04118b809",
            "3255bfb0e20d4461bc69cf8d5a8bac87",
            "c00b4f2efe86423b8e7461855e3476c9"
          ]
        },
        "id": "Ji4FHxerYUh4",
        "outputId": "44a1c551-89e3-4264-af3f-2dd344899102"
      },
      "source": [
        "env = TicTacToe(n_rows=N_ROWS, n_cols=N_COLS, n_win=N_WIN)\n",
        "pi1, pi2, Q_wins, Q_loses, Q_draws, Q_crashes = train(env, \n",
        "                                     total_episodes=1000000,\n",
        "                                     total_episodes_test=10000,\n",
        "                                     episodes_estimation_interval=100000,\n",
        "                                     epsilon=0.3,\n",
        "                                     alpha=0.01,\n",
        "                                     gamma=1,\n",
        "                                     )"
      ],
      "execution_count": null,
      "outputs": [
        {
          "output_type": "stream",
          "text": [
            "/usr/local/lib/python3.6/dist-packages/ipykernel_launcher.py:14: TqdmDeprecationWarning: This function will be removed in tqdm==5.0.0\n",
            "Please use `tqdm.notebook.tqdm` instead of `tqdm.tqdm_notebook`\n",
            "  \n"
          ],
          "name": "stderr"
        },
        {
          "output_type": "display_data",
          "data": {
            "application/vnd.jupyter.widget-view+json": {
              "model_id": "ebba2baede0943d0803fcd297ba953ce",
              "version_minor": 0,
              "version_major": 2
            },
            "text/plain": [
              "HBox(children=(FloatProgress(value=0.0, max=1000000.0), HTML(value='')))"
            ]
          },
          "metadata": {
            "tags": []
          }
        },
        {
          "output_type": "stream",
          "text": [
            "Wins:0.0092, Loses:0.0131, Draws:0.0006, Crashes:0.9771\n",
            "Wins:0.0199, Loses:0.0207, Draws:0.0012, Crashes:0.9582\n",
            "Wins:0.0189, Loses:0.0264, Draws:0.0017, Crashes:0.953\n",
            "Wins:0.0291, Loses:0.0345, Draws:0.0011, Crashes:0.9353\n",
            "Wins:0.0302, Loses:0.0273, Draws:0.0013, Crashes:0.9412\n",
            "Wins:0.0215, Loses:0.0315, Draws:0.0012, Crashes:0.9458\n",
            "Wins:0.0269, Loses:0.028, Draws:0.0017, Crashes:0.9434\n",
            "Wins:0.0309, Loses:0.0306, Draws:0.0019, Crashes:0.9366\n",
            "Wins:0.0355, Loses:0.0349, Draws:0.0012, Crashes:0.9284\n",
            "Wins:0.0239, Loses:0.0327, Draws:0.0014, Crashes:0.942\n",
            "\n",
            "Wins:0.0217, Loses:0.0426, Draws:0.0019, Crashes:0.9338\n"
          ],
          "name": "stdout"
        }
      ]
    },
    {
      "cell_type": "code",
      "metadata": {
        "colab": {
          "base_uri": "https://localhost:8080/",
          "height": 434
        },
        "id": "qUwzwd19YgfQ",
        "outputId": "d572af02-6ad9-4a36-edff-83238945de46"
      },
      "source": [
        "fig = plt.figure(figsize=(12, 6))\n",
        "plt.plot(list(range(len(Q_wins))), Q_wins, label=\"wins ratio\")\n",
        "plt.plot(list(range(len(Q_loses))), Q_loses, label=\"loses ratio\")\n",
        "plt.plot(list(range(len(Q_draws))), Q_draws, label=\"draws ratio\")\n",
        "plt.plot(list(range(len(Q_crashes))), Q_crashes, label=\"crashes ratio\")\n",
        "plt.suptitle(\"Win/loses/draws ratios by steps\", color='white')\n",
        "plt.legend()"
      ],
      "execution_count": null,
      "outputs": [
        {
          "output_type": "execute_result",
          "data": {
            "text/plain": [
              "<matplotlib.legend.Legend at 0x7f622e455f28>"
            ]
          },
          "metadata": {
            "tags": []
          },
          "execution_count": 85
        },
        {
          "output_type": "display_data",
          "data": {
            "image/png": "[encoded data removed]",
            "text/plain": [
              "<Figure size 864x432 with 1 Axes>"
            ]
          },
          "metadata": {
            "tags": []
          }
        }
      ]
    },
    {
      "cell_type": "markdown",
      "metadata": {
        "id": "1GxWj75FfHvA"
      },
      "source": [
        "Can't fit 4x4 with this pipeline due to the enormous amount of wrong steps made by algo (_probably need more steps and more exploration to not fell in that actions_)"
      ]
    },
    {
      "cell_type": "markdown",
      "metadata": {
        "id": "eiwx3f2Uuvyi"
      },
      "source": [
        "# DQN"
      ]
    },
    {
      "cell_type": "code",
      "metadata": {
        "id": "8J1R_bkzx85X"
      },
      "source": [
        "class ReplayMemory():\n",
        "    def __init__(self, capacity):\n",
        "        self.capacity = capacity\n",
        "        self.memory = []\n",
        "        self.position = 0\n",
        "\n",
        "    def store(self, exptuple):\n",
        "        if len(self.memory) < self.capacity:\n",
        "            self.memory.append(None)\n",
        "        self.memory[self.position] = exptuple\n",
        "        self.position = (self.position + 1) % self.capacity\n",
        "       \n",
        "    def sample(self, batch_size):\n",
        "        return random.sample(self.memory, batch_size)\n",
        "    \n",
        "    def __len__(self):\n",
        "        return len(self.memory)"
      ],
      "execution_count": 12,
      "outputs": []
    },
    {
      "cell_type": "code",
      "metadata": {
        "id": "jqTu1Nts7eak"
      },
      "source": [
        "class NetworkDQN(nn.Module):\n",
        "    def __init__(self, n_rows=3, n_cols=3):\n",
        "        nn.Module.__init__(self)\n",
        "        self.conv1 = nn.Conv2d(3, 512, 3, stride=1, padding=2)\n",
        "        self.pool1 = nn.MaxPool2d(kernel_size=n_rows + 2, stride=1)\n",
        "        self.l1 = nn.Linear(512, 256)\n",
        "        self.l2 = nn.Linear(256, n_rows * n_cols)\n",
        "    def forward(self, x):\n",
        "        x = self.to_multichannel(x)\n",
        "        x = self.conv1(x)\n",
        "        x = F.relu(x)\n",
        "        x = self.pool1(x)\n",
        "        x = torch.flatten(x, 1)\n",
        "        x = self.l1(x)\n",
        "        x = F.relu(x)\n",
        "        x = self.l2(x)\n",
        "        return x\n",
        "    \n",
        "    def to_multichannel(self, x):\n",
        "        crosses_idx = torch.where(x == 1)\n",
        "        naughts_idx = torch.where(x == -1)\n",
        "        empty_spaces_idx = torch.where(x == 0)\n",
        "        new_crosses = torch.zeros_like(x)\n",
        "        new_naughts = torch.zeros_like(x)\n",
        "        new_empty = torch.zeros_like(x)\n",
        "        new_crosses[crosses_idx] = 1\n",
        "        new_naughts[naughts_idx] = 1\n",
        "        new_empty[empty_spaces_idx] = 1\n",
        "        return torch.cat((new_crosses, new_naughts, new_empty), axis=1)"
      ],
      "execution_count": 13,
      "outputs": []
    },
    {
      "cell_type": "markdown",
      "metadata": {
        "id": "NiFXC1HyYbC3"
      },
      "source": [
        "## Train nets"
      ]
    },
    {
      "cell_type": "code",
      "metadata": {
        "id": "NmBn1JxchRmm"
      },
      "source": [
        "class TicTacToeDQN():\n",
        "    def __init__(self,\n",
        "                 env,\n",
        "                 model=NetworkDQN,\n",
        "                 device=\"cuda\",\n",
        "                 eps_init=0.3,\n",
        "                 eps_final=0.05,\n",
        "                 eps_decay=20000,\n",
        "                 gamma=0.9,\n",
        "                 batch_size=128,\n",
        "                 lr=0.001,\n",
        "                 memory_buffer_size=1000000):\n",
        "        self.device = device\n",
        "        self.env = env\n",
        "        self.model = model\n",
        "        self.model_crosses = model(self.env.n_rows, self.env.n_cols).to(self.device)\n",
        "        self.model_naughts = model(self.env.n_rows, self.env.n_cols).to(self.device)\n",
        "        self.memory_crosses = ReplayMemory(memory_buffer_size)\n",
        "        self.memory_naughts = ReplayMemory(memory_buffer_size)\n",
        "        self.optimizer_crosses = optim.Adam(self.model_crosses.parameters(), lr)\n",
        "        self.optimizer_naughts = optim.Adam(self.model_naughts.parameters(), lr)\n",
        "        self.steps_done = 0\n",
        "        self.episode_durations = []\n",
        "        self.state_crosses_prev = None\n",
        "        self.state_naughts_prev = None\n",
        "        self.action_crosses_prev = None\n",
        "        self.action_naughts_prev = None\n",
        "        self.gamma = gamma\n",
        "        self.batch_size = batch_size\n",
        "        \n",
        "        self.eps_init, self.eps_final, self.eps_decay = eps_init, eps_final, eps_decay\n",
        "        self.num_step = 0\n",
        "\n",
        "    def select_greedy_action(self, state, crosses=True):\n",
        "        if crosses:\n",
        "          return self.model_crosses(state.unsqueeze(0).to(device)).cpu().data.max(1)[1].view(1, 1)\n",
        "        else:\n",
        "          return self.model_naughts(state.unsqueeze(0).to(device)).cpu().data.max(1)[1].view(1, 1)\n",
        "\n",
        "    def select_action(self, state, crosses=True, greedy=False):\n",
        "        sample = random.random()\n",
        "        self.num_step += 1\n",
        "        eps_threshold = self.eps_final + (self.eps_init - self.eps_final) * math.exp(-1. * self.num_step / self.eps_decay)\n",
        "        if greedy:\n",
        "            return self.select_greedy_action(state, crosses)\n",
        "        if sample > eps_threshold:\n",
        "            return self.select_greedy_action(state, crosses)\n",
        "        else:\n",
        "            return torch.tensor([[random.randrange(N_ROWS * N_COLS)]], dtype=torch.int64)\n",
        "        \n",
        "    def run_episode(self, e=0, do_learning=True):\n",
        "        self.num_step += 1\n",
        "        self.env.reset()\n",
        "        state = self.env.board.copy()\n",
        "        cur_turn = 1\n",
        "        done = False\n",
        "        while not done:\n",
        "          if cur_turn == 1:\n",
        "            state_tensor = torch.tensor([state], dtype=torch.float32)\n",
        "\n",
        "            with torch.no_grad():\n",
        "                action = self.select_action(state_tensor, crosses=True)\n",
        "                \n",
        "            observation, reward, done, _ = self.env.step(action.cpu().numpy()[0][0])\n",
        "            cur_turn_prime = observation[-1]\n",
        "            \n",
        "            self.state_crosses_prev = state\n",
        "            self.action_crosses_prev = action\n",
        "            state_prime = self.env.board.copy()\n",
        "            state_prime_tensor = torch.tensor([state_prime], dtype=torch.float32)\n",
        "            \n",
        "            if done: \n",
        "            # When done we haven't got next_state, \n",
        "            # so I fill it with -99 tensor. Then we will catch it in learning phase (Qnext = batch_reward + gamma * 0)\n",
        "                state_prime_tensor = torch.ones_like(state_tensor) * -99\n",
        "                transition = (state_tensor, action, state_prime_tensor, torch.tensor([reward], dtype=torch.float32))\n",
        "                self.memory_crosses.store(transition)\n",
        "                if reward == -10:\n",
        "                  if do_learning:\n",
        "                    self.learn(crosses=True)\n",
        "                  break\n",
        "            \n",
        "            \n",
        "\n",
        "            if self.state_naughts_prev is not None:\n",
        "                transition = (torch.tensor([self.state_naughts_prev], dtype=torch.float32), \n",
        "                              self.action_naughts_prev,\n",
        "                              state_prime_tensor,\n",
        "                              torch.tensor([-reward], dtype=torch.float32))\n",
        "                self.memory_naughts.store(transition)\n",
        "\n",
        "            if do_learning:\n",
        "                self.learn(crosses=True)\n",
        "\n",
        "          else:\n",
        "            state_tensor = torch.tensor([state], dtype=torch.float32)\n",
        "\n",
        "            with torch.no_grad():\n",
        "                action = self.select_action(state_tensor, crosses=False)\n",
        "                \n",
        "            observation, reward, done, _ = self.env.step(action.cpu().numpy()[0][0])\n",
        "            state_prime = self.env.board.copy()\n",
        "            cur_turn_prime = observation[-1]\n",
        "            state_prime_tensor = torch.tensor([state_prime], dtype=torch.float32)\n",
        "            self.state_naughts_prev = state\n",
        "            self.action_naughts_prev = action\n",
        "\n",
        "            if done: \n",
        "            # When done we haven't got next_state, \n",
        "            # so I fill it with -99 tensor. Then we will catch it in learning phase (Qnext = batch_reward + gamma * 0)\n",
        "              state_prime_tensor = torch.ones_like(state_tensor) * -99\n",
        "              if reward == -10:\n",
        "                transition = (state_tensor, action, state_prime_tensor, torch.tensor([reward], dtype=torch.float32))\n",
        "                self.memory_naughts.store(transition)\n",
        "                if do_learning:\n",
        "                  self.learn(crosses=False)\n",
        "                break\n",
        "              else:\n",
        "                transition = (state_tensor, action, state_prime_tensor, torch.tensor([-reward], dtype=torch.float32))\n",
        "                self.memory_naughts.store(transition)\n",
        "            \n",
        "            if self.state_crosses_prev is not None:\n",
        "                transition = (torch.tensor([self.state_crosses_prev], dtype=torch.float32),\n",
        "                              self.action_crosses_prev, state_prime_tensor,\n",
        "                              torch.tensor([reward], dtype=torch.float32))\n",
        "                self.memory_crosses.store(transition)\n",
        "\n",
        "            if do_learning:\n",
        "                self.learn(crosses=False)\n",
        "\n",
        "          state = state_prime\n",
        "          cur_turn = cur_turn_prime\n",
        "\n",
        "    def learn(self, crosses=True):\n",
        "        if crosses:\n",
        "          if len(self.memory_crosses) < self.batch_size:\n",
        "              return\n",
        "        else:\n",
        "          if len(self.memory_naughts) < self.batch_size:\n",
        "              return\n",
        "        # берём мини-батч из памяти\n",
        "        if crosses:\n",
        "          transitions = self.memory_crosses.sample(self.batch_size)\n",
        "        else:\n",
        "          transitions = self.memory_naughts.sample(self.batch_size)\n",
        "        batch_state, batch_action, batch_next_state, batch_reward = zip(*transitions)\n",
        "        # Find fake states\n",
        "        idx_to_fix = [] \n",
        "        for i, el in enumerate(batch_next_state):\n",
        "          if (el[0] == -99).all():\n",
        "            idx_to_fix.append(i)\n",
        "        batch_state = Variable(torch.cat(batch_state).to(self.device))\n",
        "        batch_action = Variable(torch.cat(batch_action).to(self.device))\n",
        "        batch_reward = Variable(torch.cat(batch_reward).to(self.device))\n",
        "        batch_next_state = Variable(torch.cat(batch_next_state).to(self.device))\n",
        "\n",
        "        # считаем значения функции Q\n",
        "        if crosses:\n",
        "          Q = self.model_crosses(batch_state.unsqueeze(1)).gather(1, batch_action).reshape([self.batch_size])\n",
        "        # # оцениваем ожидаемые значения после этого действия\n",
        "          Qmax = self.model_crosses(batch_next_state.unsqueeze(1)).detach().max(1)[0]\n",
        "        else:\n",
        "          Q = self.model_naughts(batch_state.unsqueeze(1)).gather(1, batch_action).reshape([self.batch_size])\n",
        "        # # оцениваем ожидаемые значения после этого действия\n",
        "          Qmax = self.model_naughts(batch_next_state.unsqueeze(1)).detach().max(1)[0]\n",
        "        # Fix Qmax if we got state before the final state(in final state we got no next_state, so Qmax should be 0)      \n",
        "        if len(idx_to_fix):\n",
        "          Qmax[idx_to_fix] = 0\n",
        "        Qnext = batch_reward + (self.gamma * Qmax)\n",
        "        # # и хотим, чтобы Q было похоже на Qnext -- это и есть суть Q-обучения\n",
        "        loss = F.smooth_l1_loss(Q.cpu(), Qnext.cpu())\n",
        "        if crosses:  \n",
        "          self.optimizer_crosses.zero_grad()\n",
        "          loss.backward()\n",
        "          self.optimizer_crosses.step()\n",
        "        else:\n",
        "          self.optimizer_naughts.zero_grad()\n",
        "          loss.backward()\n",
        "          self.optimizer_naughts.step()\n",
        "\n",
        "    def test_strategy(self, me=None):\n",
        "      self.env.reset()\n",
        "      state = self.env.board\n",
        "      state_tensor = torch.tensor([state], dtype=torch.float32)\n",
        "      if me:\n",
        "        with torch.no_grad():\n",
        "            a = self.select_action(state_tensor, crosses=True, greedy=True)\n",
        "      else:\n",
        "        a = torch.tensor([[random.randrange(N_ROWS * N_COLS)]], dtype=torch.int64)\n",
        "\n",
        "      while(1):\n",
        "        observations, reward, done, _ = env.step(a.cpu().numpy()[0])\n",
        "        state = self.env.board\n",
        "        state_tensor = torch.tensor([state], dtype=torch.float32)\n",
        "        cur_turn = observations[-1]\n",
        "    # Calculate real reward\n",
        "        if done:\n",
        "          real_reward = calc_real_reward(cur_turn, me, reward)\n",
        "          return real_reward\n",
        "    # Choose action    \n",
        "        if cur_turn == me:\n",
        "          with torch.no_grad():\n",
        "            if me:\n",
        "              a = self.select_action(state_tensor, crosses=True, greedy=True)\n",
        "            else:\n",
        "              a = self.select_action(state_tensor, crosses=False, greedy=True)\n",
        "        else:\n",
        "          available_actions = [env.int_from_action(x) for x in env.getEmptySpaces()]\n",
        "          a = torch.tensor([np.random.choice(available_actions)], dtype=torch.int64)"
      ],
      "execution_count": null,
      "outputs": []
    },
    {
      "cell_type": "code",
      "metadata": {
        "id": "uzneu_AUv6E0"
      },
      "source": [
        "def train_dqn(dqn, total_episodes=100000, total_episodes_test=10000, \n",
        "          episodes_estimation_interval=10000):\n",
        "  Q_wins = []\n",
        "  Q_loses = []\n",
        "  Q_draws = []\n",
        "  Q_crashes = []\n",
        "  for i in tqdm_notebook(range(total_episodes)):\n",
        "      if i % episodes_estimation_interval == 0:\n",
        "        wins = 0\n",
        "        loses = 0\n",
        "        draws = 0\n",
        "        crashes = 0\n",
        "        for _ in range(total_episodes_test):\n",
        "          me = np.random.choice([-1, 1])\n",
        "          reward = dqn.test_strategy(me)\n",
        "          if reward == -1:\n",
        "            loses += 1\n",
        "          elif reward == 1:\n",
        "            wins += 1\n",
        "          elif reward == 0:\n",
        "            draws += 1\n",
        "          else:\n",
        "            crashes += 1\n",
        "        Q_wins.append(wins / total_episodes_test)\n",
        "        Q_loses.append(loses / total_episodes_test)\n",
        "        Q_draws.append(draws / total_episodes_test)\n",
        "        Q_crashes.append(crashes / total_episodes_test)\n",
        "        print(f\"Wins:{Q_wins[-1]}, Loses:{Q_loses[-1]}, Draws:{Q_draws[-1]}, Crashes:{Q_crashes[-1]}\")\n",
        "      dqn.run_episode()\n",
        "      \n",
        "      \n",
        "  wins = 0\n",
        "  loses = 0\n",
        "  draws = 0\n",
        "  crashes = 0\n",
        "  for _ in range(total_episodes_test):\n",
        "    me = np.random.choice([-1, 1])\n",
        "    reward = dqn.test_strategy(me)\n",
        "    if reward == -1:\n",
        "      loses += 1\n",
        "    elif reward == 1:\n",
        "      wins += 1\n",
        "    elif reward == 0:\n",
        "      draws += 1\n",
        "    else:\n",
        "      crashes += 1\n",
        "  Q_wins.append(wins / total_episodes_test)\n",
        "  Q_loses.append(loses / total_episodes_test)\n",
        "  Q_draws.append(draws / total_episodes_test)\n",
        "  Q_crashes.append(crashes / total_episodes_test)\n",
        "  print(f\"Wins:{Q_wins[-1]}, Loses:{Q_loses[-1]}, Draws:{Q_draws[-1]}, Crashes:{Q_crashes[-1]}\")\n",
        "  return Q_wins, Q_loses, Q_draws, Q_crashes"
      ],
      "execution_count": null,
      "outputs": []
    },
    {
      "cell_type": "code",
      "metadata": {
        "id": "RELz8Gopv_Zn",
        "colab": {
          "base_uri": "https://localhost:8080/",
          "height": 315,
          "referenced_widgets": [
            "538c067b3fd44dde9c6ea122a765b8cb",
            "fef8c8f1269e4d3a9f2b008c4f14ed30",
            "994f5b23f72942cc9b7635f4e912c00b",
            "3b64d580af73499aad62d75b40503426",
            "6d8b8905f0b54e0b87bc4c31ce8c9b23",
            "b6ddf770da4f4c4180834a7cd154f669",
            "ecfff8d42c864fefa6d5c7b515b1e781",
            "fcccc6dcc1344f32ada1b698aaa6e994"
          ]
        },
        "outputId": "e7752a7b-dffc-4bca-d699-95a68b0efa34"
      },
      "source": [
        "N_ROWS, N_COLS, N_WIN = 3, 3, 3\n",
        "env = TicTacToe(n_rows=N_ROWS, n_cols=N_COLS, n_win=N_WIN)\n",
        "device = 'cuda' if torch.cuda.is_available() else 'cpu'\n",
        "dqn = TicTacToeDQN(env, NetworkDQN, device)\n",
        "Q_wins, Q_loses, Q_draws, Q_crashes = train_dqn(dqn, total_episodes=50000, episodes_estimation_interval=5000)"
      ],
      "execution_count": null,
      "outputs": [
        {
          "output_type": "stream",
          "text": [
            "/usr/local/lib/python3.6/dist-packages/ipykernel_launcher.py:7: TqdmDeprecationWarning: This function will be removed in tqdm==5.0.0\n",
            "Please use `tqdm.notebook.tqdm` instead of `tqdm.tqdm_notebook`\n",
            "  import sys\n"
          ],
          "name": "stderr"
        },
        {
          "output_type": "display_data",
          "data": {
            "application/vnd.jupyter.widget-view+json": {
              "model_id": "538c067b3fd44dde9c6ea122a765b8cb",
              "version_minor": 0,
              "version_major": 2
            },
            "text/plain": [
              "HBox(children=(FloatProgress(value=0.0, max=50000.0), HTML(value='')))"
            ]
          },
          "metadata": {
            "tags": []
          }
        },
        {
          "output_type": "stream",
          "text": [
            "Wins:0.0, Loses:0.0, Draws:0.0, Crashes:1.0\n",
            "Wins:0.5845, Loses:0.3309, Draws:0.0846, Crashes:0.0\n",
            "Wins:0.6362, Loses:0.2944, Draws:0.0694, Crashes:0.0\n",
            "Wins:0.6886, Loses:0.1575, Draws:0.1539, Crashes:0.0\n",
            "Wins:0.7177, Loses:0.1843, Draws:0.098, Crashes:0.0\n",
            "Wins:0.8243, Loses:0.026, Draws:0.1497, Crashes:0.0\n",
            "Wins:0.7321, Loses:0.1537, Draws:0.1142, Crashes:0.0\n",
            "Wins:0.8136, Loses:0.1047, Draws:0.0817, Crashes:0.0\n",
            "Wins:0.7879, Loses:0.0691, Draws:0.143, Crashes:0.0\n",
            "Wins:0.783, Loses:0.0686, Draws:0.1484, Crashes:0.0\n",
            "\n",
            "Wins:0.8744, Loses:0.0296, Draws:0.096, Crashes:0.0\n"
          ],
          "name": "stdout"
        }
      ]
    },
    {
      "cell_type": "code",
      "metadata": {
        "id": "er_DleDezpQR",
        "colab": {
          "base_uri": "https://localhost:8080/",
          "height": 315,
          "referenced_widgets": [
            "d04e8fc706e1418596ae9c2fa3e9804a",
            "3346701bba2e480792295066a8dbf709",
            "84cc1f8cf3a6438493bc8e340fa41650",
            "817e023975414ac0926f4ee8ef9051ae",
            "89e8232e3e1a431db0c55a48c8c49518",
            "d78a108a8c0f4a8c8a41eea2d7c14776",
            "2c935825b76745c5957bd7a6af9853bf",
            "02ca26cf12864041b0d25b24e3c4aa01"
          ]
        },
        "outputId": "808a819e-8bc1-4b2f-83ad-2c81354a9290"
      },
      "source": [
        "N_ROWS, N_COLS, N_WIN = 4, 4, 4\r\n",
        "env = TicTacToe(n_rows=N_ROWS, n_cols=N_COLS, n_win=N_WIN)\r\n",
        "device = 'cuda' if torch.cuda.is_available() else 'cpu'\r\n",
        "dqn = TicTacToeDQN(env, device)\r\n",
        "Q_wins, Q_loses, Q_draws, Q_crashes = train_dqn(dqn, total_episodes=50000, episodes_estimation_interval=5000)"
      ],
      "execution_count": null,
      "outputs": [
        {
          "output_type": "stream",
          "text": [
            "/usr/local/lib/python3.6/dist-packages/ipykernel_launcher.py:7: TqdmDeprecationWarning: This function will be removed in tqdm==5.0.0\n",
            "Please use `tqdm.notebook.tqdm` instead of `tqdm.tqdm_notebook`\n",
            "  import sys\n"
          ],
          "name": "stderr"
        },
        {
          "output_type": "display_data",
          "data": {
            "application/vnd.jupyter.widget-view+json": {
              "model_id": "d04e8fc706e1418596ae9c2fa3e9804a",
              "version_minor": 0,
              "version_major": 2
            },
            "text/plain": [
              "HBox(children=(FloatProgress(value=0.0, max=50000.0), HTML(value='')))"
            ]
          },
          "metadata": {
            "tags": []
          }
        },
        {
          "output_type": "stream",
          "text": [
            "Wins:0.0, Loses:0.0, Draws:0.0, Crashes:1.0\n",
            "Wins:0.2134, Loses:0.2453, Draws:0.0706, Crashes:0.4707\n",
            "Wins:0.4642, Loses:0.1535, Draws:0.3524, Crashes:0.0299\n",
            "Wins:0.5432, Loses:0.1411, Draws:0.3146, Crashes:0.0011\n",
            "Wins:0.5312, Loses:0.0903, Draws:0.3783, Crashes:0.0002\n",
            "Wins:0.6554, Loses:0.0257, Draws:0.3189, Crashes:0.0\n",
            "Wins:0.7595, Loses:0.0224, Draws:0.2181, Crashes:0.0\n",
            "Wins:0.5456, Loses:0.0487, Draws:0.4057, Crashes:0.0\n",
            "Wins:0.7267, Loses:0.0147, Draws:0.2586, Crashes:0.0\n",
            "Wins:0.6794, Loses:0.0163, Draws:0.3043, Crashes:0.0\n",
            "\n",
            "Wins:0.6842, Loses:0.0406, Draws:0.2752, Crashes:0.0\n"
          ],
          "name": "stdout"
        }
      ]
    },
    {
      "cell_type": "code",
      "metadata": {
        "colab": {
          "base_uri": "https://localhost:8080/",
          "height": 434
        },
        "id": "yA-KjRokf3Ea",
        "outputId": "8e37eb80-d2ad-47e6-9c92-8971e738dc81"
      },
      "source": [
        "fig = plt.figure(figsize=(12, 6))\n",
        "plt.plot(list(range(len(Q_wins))), Q_wins, label=\"wins ratio\")\n",
        "plt.plot(list(range(len(Q_loses))), Q_loses, label=\"loses ratio\")\n",
        "plt.plot(list(range(len(Q_draws))), Q_draws, label=\"draws ratio\")\n",
        "plt.suptitle(\"Win/loses/draws ratios by steps\", color='white')\n",
        "plt.legend()"
      ],
      "execution_count": null,
      "outputs": [
        {
          "output_type": "execute_result",
          "data": {
            "text/plain": [
              "<matplotlib.legend.Legend at 0x7f8c8b2b2748>"
            ]
          },
          "metadata": {
            "tags": []
          },
          "execution_count": 20
        },
        {
          "output_type": "display_data",
          "data": {
            "image/png": "[encoded data removed]",
            "text/plain": [
              "<Figure size 864x432 with 1 Axes>"
            ]
          },
          "metadata": {
            "tags": [],
            "needs_background": "light"
          }
        }
      ]
    },
    {
      "cell_type": "markdown",
      "metadata": {
        "id": "o5eNvIiEWG62"
      },
      "source": [
        "# Dueling DQN"
      ]
    },
    {
      "cell_type": "code",
      "metadata": {
        "id": "91J5OddXWGh2"
      },
      "source": [
        "class DuelingNetworkDQN(nn.Module):\r\n",
        "    def __init__(self, n_rows=3, n_cols=3):\r\n",
        "        nn.Module.__init__(self)\r\n",
        "        self.conv1 = nn.Conv2d(3, 512, 3, stride=1, padding=2)\r\n",
        "        self.pool1 = nn.MaxPool2d(kernel_size=n_rows + 2, stride=1)\r\n",
        "        self.l1 = nn.Linear(512, 256)\r\n",
        "        self.v = nn.Linear(256, 1)\r\n",
        "        self.a = nn.Linear(256, n_rows * n_cols)\r\n",
        "    def forward(self, x):\r\n",
        "        x = self.to_multichannel(x)\r\n",
        "        x = self.conv1(x)\r\n",
        "        x = F.relu(x)\r\n",
        "        x = self.pool1(x)\r\n",
        "        x = torch.flatten(x, 1)\r\n",
        "        x = self.l1(x)\r\n",
        "        x = F.relu(x)\r\n",
        "        a = self.a(x)\r\n",
        "        v = self.v(x)\r\n",
        "        x = v + (a - a.mean(dim=1, keepdim=True))\r\n",
        "        return x\r\n",
        "    \r\n",
        "    def to_multichannel(self, x):\r\n",
        "        crosses_idx = torch.where(x == 1)\r\n",
        "        naughts_idx = torch.where(x == -1)\r\n",
        "        empty_spaces_idx = torch.where(x == 0)\r\n",
        "        new_crosses = torch.zeros_like(x)\r\n",
        "        new_naughts = torch.zeros_like(x)\r\n",
        "        new_empty = torch.zeros_like(x)\r\n",
        "        new_crosses[crosses_idx] = 1\r\n",
        "        new_naughts[naughts_idx] = 1\r\n",
        "        new_empty[empty_spaces_idx] = 1\r\n",
        "        return torch.cat((new_crosses, new_naughts, new_empty), axis=1)"
      ],
      "execution_count": 14,
      "outputs": []
    },
    {
      "cell_type": "code",
      "metadata": {
        "id": "-MAEgC_mfCzp",
        "colab": {
          "base_uri": "https://localhost:8080/",
          "height": 304,
          "referenced_widgets": [
            "849db9b39a2f4a73bdd2dd60c2bf3446",
            "b71c4278ca924971a20edaadce0468d8",
            "a26dd54634f8420da942d4fa98c4dff0",
            "2156956f1ed846869a45b194062ee46f",
            "6b2099c067414daeb41b6b863bae3d88",
            "2423bed5e7604971839cb37bbfb9275b",
            "bfb3570d25bc4e6a8c13adfc62ff78ba",
            "f39e05c338cc4f868a5297be5e91d716"
          ]
        },
        "outputId": "2b635edf-4fc7-4c87-cfd4-3813991d4eaf"
      },
      "source": [
        "N_ROWS, N_COLS, N_WIN = 4, 4, 4\r\n",
        "env = TicTacToe(n_rows=N_ROWS, n_cols=N_COLS, n_win=N_WIN)\r\n",
        "device = 'cuda' if torch.cuda.is_available() else 'cpu'\r\n",
        "dqn = TicTacToeDQN(env, DuelingNetworkDQN, device)\r\n",
        "Q_wins, Q_loses, Q_draws, Q_crashes = train_dqn(dqn, total_episodes=50000, episodes_estimation_interval=5000)"
      ],
      "execution_count": null,
      "outputs": [
        {
          "output_type": "stream",
          "text": [
            "/usr/local/lib/python3.6/dist-packages/ipykernel_launcher.py:7: TqdmDeprecationWarning: This function will be removed in tqdm==5.0.0\n",
            "Please use `tqdm.notebook.tqdm` instead of `tqdm.tqdm_notebook`\n",
            "  import sys\n"
          ],
          "name": "stderr"
        },
        {
          "output_type": "display_data",
          "data": {
            "application/vnd.jupyter.widget-view+json": {
              "model_id": "849db9b39a2f4a73bdd2dd60c2bf3446",
              "version_minor": 0,
              "version_major": 2
            },
            "text/plain": [
              "HBox(children=(FloatProgress(value=0.0, max=50000.0), HTML(value='')))"
            ]
          },
          "metadata": {
            "tags": []
          }
        },
        {
          "output_type": "stream",
          "text": [
            "Wins:0.0, Loses:0.0, Draws:0.0, Crashes:1.0\n",
            "Wins:0.331, Loses:0.1888, Draws:0.1583, Crashes:0.3219\n",
            "Wins:0.4739, Loses:0.1432, Draws:0.3358, Crashes:0.0471\n",
            "Wins:0.5192, Loses:0.116, Draws:0.364, Crashes:0.0008\n",
            "Wins:0.6062, Loses:0.0543, Draws:0.3395, Crashes:0.0\n",
            "Wins:0.7077, Loses:0.0378, Draws:0.2545, Crashes:0.0\n",
            "Wins:0.6179, Loses:0.0623, Draws:0.3198, Crashes:0.0\n",
            "Wins:0.7684, Loses:0.0273, Draws:0.2043, Crashes:0.0\n",
            "Wins:0.7396, Loses:0.0237, Draws:0.2367, Crashes:0.0\n",
            "Wins:0.7263, Loses:0.0285, Draws:0.2452, Crashes:0.0\n",
            "\n",
            "Wins:0.7164, Loses:0.0168, Draws:0.2668, Crashes:0.0\n"
          ],
          "name": "stdout"
        }
      ]
    },
    {
      "cell_type": "code",
      "metadata": {
        "colab": {
          "base_uri": "https://localhost:8080/",
          "height": 434
        },
        "id": "x7ctB_q_gBnj",
        "outputId": "9f856f9a-e500-4b5c-85dc-b5619691e0ca"
      },
      "source": [
        "fig = plt.figure(figsize=(12, 6))\n",
        "plt.plot(list(range(len(Q_wins))), Q_wins, label=\"wins ratio\")\n",
        "plt.plot(list(range(len(Q_loses))), Q_loses, label=\"loses ratio\")\n",
        "plt.plot(list(range(len(Q_draws))), Q_draws, label=\"draws ratio\")\n",
        "plt.suptitle(\"Win/loses/draws ratios by steps\", color='white')\n",
        "plt.legend()"
      ],
      "execution_count": null,
      "outputs": [
        {
          "output_type": "execute_result",
          "data": {
            "text/plain": [
              "<matplotlib.legend.Legend at 0x7f8c8a943f60>"
            ]
          },
          "metadata": {
            "tags": []
          },
          "execution_count": 26
        },
        {
          "output_type": "display_data",
          "data": {
            "image/png": "[encoded data removed]",
            "text/plain": [
              "<Figure size 864x432 with 1 Axes>"
            ]
          },
          "metadata": {
            "tags": [],
            "needs_background": "light"
          }
        }
      ]
    },
    {
      "cell_type": "markdown",
      "metadata": {
        "id": "PuhzDrBZClMo"
      },
      "source": [
        "# Rollouts / MCTS"
      ]
    },
    {
      "cell_type": "markdown",
      "metadata": {
        "id": "X927iMUxb0Hv"
      },
      "source": [
        "## Rollouts with random strategy"
      ]
    },
    {
      "cell_type": "code",
      "metadata": {
        "id": "gs6fEHB-Z9nu"
      },
      "source": [
        "N_ROWS, N_COLS, N_WIN = 3, 3, 3"
      ],
      "execution_count": 15,
      "outputs": []
    },
    {
      "cell_type": "code",
      "metadata": {
        "id": "UkuuGVLbcspQ"
      },
      "source": [
        "import copy"
      ],
      "execution_count": 16,
      "outputs": []
    },
    {
      "cell_type": "code",
      "metadata": {
        "id": "xN16KfxBaFlU"
      },
      "source": [
        "def rollouts(env, action, pi=None, me=1, n_rollouts=10):\n",
        "  rewards = []\n",
        "  for _ in range(n_rollouts):\n",
        "    env_copy = TicTacToe(env.n_rows, env.n_cols, env.n_win)\n",
        "    env_copy.board = env.board.copy()\n",
        "    env_copy.curTurn = env.curTurn\n",
        "    observation, reward, done, info = env_copy.step(action)\n",
        "    if done:\n",
        "      rewards.append(reward)\n",
        "      break\n",
        "    s = observation[0]\n",
        "    cur_turn = observation[-1]\n",
        "    while not done:\n",
        "      if cur_turn == me:\n",
        "        if pi is not None:\n",
        "          a = pi.getAction(s, eps=0)\n",
        "        else:\n",
        "          # a = np.random.randint(env_copy.n_rows * env_copy.n_cols)\n",
        "          available_actions = [env_copy.int_from_action(x) for x in env_copy.getEmptySpaces()]\n",
        "          a = np.random.choice(available_actions)\n",
        "        observation, reward, done, info = env_copy.step(a)\n",
        "        s_prime = observation[0]\n",
        "        cur_turn_prime = observation[-1]\n",
        "      else:\n",
        "        available_actions = [env_copy.int_from_action(x) for x in env_copy.getEmptySpaces()]\n",
        "        a = np.random.choice(available_actions)\n",
        "        observation, reward, done, info = env_copy.step(a)\n",
        "        s_prime = observation[0]\n",
        "        cur_turn_prime = observation[-1]\n",
        "      s, cur_turn = s_prime, cur_turn_prime\n",
        "    if (reward == -1) and (me == -1):\n",
        "      reward = -reward\n",
        "    if (reward == -10) and (cur_turn != me):\n",
        "      raise Exception(\"Opponent made wrong move\")\n",
        "    rewards.append(reward)\n",
        "  return np.mean(rewards)"
      ],
      "execution_count": 41,
      "outputs": []
    },
    {
      "cell_type": "code",
      "metadata": {
        "id": "9sflkZfH60PU"
      },
      "source": [
        "def calc_real_reward(cur_turn, me, reward):\n",
        "  if (cur_turn == me) and (reward == -10):\n",
        "    real_reward = -10\n",
        "  if (cur_turn != me) and (reward == -10):\n",
        "    raise Exception(\"Opponent made bad choose\")\n",
        "  if (reward != -10):\n",
        "    real_reward = me * reward\n",
        "  return real_reward"
      ],
      "execution_count": 18,
      "outputs": []
    },
    {
      "cell_type": "code",
      "metadata": {
        "id": "gXqqtJkHfsXp"
      },
      "source": [
        "def test_strategy_with_rollouts(env, pi=None, me=None, n_rollouts=500):\n",
        "  env.reset()\n",
        "  s = env.getState()[0]\n",
        "  if me:\n",
        "    best_reward = -9999\n",
        "    best_action = 0\n",
        "    for i in range(env.n_rows * env.n_cols):\n",
        "      cur_reward = rollouts(env, i, pi=pi, me=me, n_rollouts=n_rollouts)\n",
        "      if cur_reward > best_reward:\n",
        "        best_reward = cur_reward\n",
        "        best_action = i\n",
        "    a = best_action\n",
        "  else:\n",
        "    a = np.random.randint(env.n_rows * env.n_cols)\n",
        "    \n",
        "  while(1):\n",
        "    observations, reward, done, _ = env.step(a)\n",
        "    s = observations[0]\n",
        "    cur_turn = observations[-1]\n",
        "# Calculate real reward\n",
        "    if done:\n",
        "      real_reward = calc_real_reward(cur_turn, me, reward)\n",
        "      return real_reward\n",
        "# Choose action    \n",
        "    if cur_turn == me:\n",
        "      best_reward = -9999\n",
        "      best_action = 0\n",
        "      for i in range(env.n_rows * env.n_cols):\n",
        "        cur_reward = rollouts(env, i, pi=pi, me=me, n_rollouts=n_rollouts)\n",
        "        if cur_reward > best_reward:\n",
        "          best_reward = cur_reward\n",
        "          best_action = i\n",
        "      a = best_action\n",
        "    else:\n",
        "      available_actions = [env.int_from_action(x) for x in env.getEmptySpaces()]\n",
        "      a = np.random.choice(available_actions)"
      ],
      "execution_count": 33,
      "outputs": []
    },
    {
      "cell_type": "markdown",
      "metadata": {
        "id": "EuwXrv91xg8u"
      },
      "source": [
        "## 3x3"
      ]
    },
    {
      "cell_type": "markdown",
      "metadata": {
        "id": "YtI_GCRT_unK"
      },
      "source": [
        "Try with random strategy"
      ]
    },
    {
      "cell_type": "code",
      "metadata": {
        "id": "oJT9CTL8oTQE",
        "colab": {
          "base_uri": "https://localhost:8080/",
          "height": 117,
          "referenced_widgets": [
            "8e570c4090524eff9b12f55107024259",
            "aa278e5b07d249b1890f592b7c871c4f",
            "00bd1f7cc2474e8392413f2fc11e3296",
            "452fbaee7068454abe996af89ed2e40a",
            "672685d7fb544fdea4d665cf362fa273",
            "7cfc01ff05db45e3b4c66d3195e44156",
            "e12114e8c9234edcbc4f1ab32d5449df",
            "9d2a0c6307df4e4a82e722276d28c700"
          ]
        },
        "outputId": "abf6da3e-ebe9-49af-a83b-4867da3c87ce"
      },
      "source": [
        "env = TicTacToe(N_ROWS, N_COLS, N_WIN)\n",
        "# Q1 = defaultdict(lambda: np.random.random(env.n_rows * env.n_cols))\n",
        "# Q2 = defaultdict(lambda: np.random.random(env.n_rows * env.n_cols))\n",
        "# pi1 = Policy(Q1, env.n_rows, env.n_cols)\n",
        "# pi2 = Policy(Q2, env.n_rows, env.n_cols)\n",
        "wins = 0\n",
        "loses = 0\n",
        "draws = 0\n",
        "crashes = 0\n",
        "for _ in tqdm_notebook(range(100)):\n",
        "    me = np.random.choice([-1, 1])\n",
        "    if me == 1:\n",
        "      reward = test_strategy_with_rollouts(env, me=me)\n",
        "    else:\n",
        "      reward = test_strategy_with_rollouts(env, me=me)\n",
        "    if reward == -1:\n",
        "      loses += 1\n",
        "    elif reward == 1:\n",
        "      wins += 1\n",
        "    elif reward == 0:\n",
        "      draws += 1\n",
        "    else:\n",
        "      crashes += 1"
      ],
      "execution_count": 51,
      "outputs": [
        {
          "output_type": "stream",
          "text": [
            "/usr/local/lib/python3.6/dist-packages/ipykernel_launcher.py:10: TqdmDeprecationWarning: This function will be removed in tqdm==5.0.0\n",
            "Please use `tqdm.notebook.tqdm` instead of `tqdm.tqdm_notebook`\n",
            "  # Remove the CWD from sys.path while we load stuff.\n"
          ],
          "name": "stderr"
        },
        {
          "output_type": "display_data",
          "data": {
            "application/vnd.jupyter.widget-view+json": {
              "model_id": "8e570c4090524eff9b12f55107024259",
              "version_minor": 0,
              "version_major": 2
            },
            "text/plain": [
              "HBox(children=(FloatProgress(value=0.0), HTML(value='')))"
            ]
          },
          "metadata": {
            "tags": []
          }
        },
        {
          "output_type": "stream",
          "text": [
            "\n"
          ],
          "name": "stdout"
        }
      ]
    },
    {
      "cell_type": "code",
      "metadata": {
        "id": "FVaXnTuto-JB"
      },
      "source": [
        "Q_wins = wins / 100\n",
        "Q_loses = loses / 100\n",
        "Q_draws = draws / 100\n",
        "Q_crashes = crashes / 100"
      ],
      "execution_count": 54,
      "outputs": []
    },
    {
      "cell_type": "code",
      "metadata": {
        "colab": {
          "base_uri": "https://localhost:8080/"
        },
        "id": "EBu9kLBc_Lk_",
        "outputId": "34ce6104-e5c0-4193-b911-1cb94ec1865f"
      },
      "source": [
        "print(f\"Wins:{Q_wins}, Losses:{Q_loses}, Draws:{Q_draws}, Crashes:{Q_crashes}\")"
      ],
      "execution_count": 55,
      "outputs": [
        {
          "output_type": "stream",
          "text": [
            "Wins:0.74, Losses:0.26, Draws:0.0, Crashes:0.0\n"
          ],
          "name": "stdout"
        }
      ]
    },
    {
      "cell_type": "markdown",
      "metadata": {
        "id": "L93T6A-a_U2n"
      },
      "source": [
        "Not bad but not good"
      ]
    },
    {
      "cell_type": "markdown",
      "metadata": {
        "id": "fTHvqG1u_0PI"
      },
      "source": [
        "Try with pretrained strategy"
      ]
    },
    {
      "cell_type": "code",
      "metadata": {
        "colab": {
          "base_uri": "https://localhost:8080/",
          "height": 168,
          "referenced_widgets": [
            "e0b69bf8ba9b4c3bafa6847bd5cf4b11",
            "11ae9200c32645bcb89874fd92b87ba2",
            "494fc6afcc534ed583d7debd002ef8d6",
            "74e50dab265343cd832794e6eb039a74",
            "21281d797a0c459db8a8c102c5e138bf",
            "6d66fb4a34de41bda29f0a41423f7305",
            "35e6cc2659314cb7b560b240b29fdadc",
            "78309eb8485f4ebd8aa0711d60edbc61"
          ]
        },
        "id": "3a9JlWCQ_2M_",
        "outputId": "8976de9a-c8da-4a38-b49a-9ac99f3e52db"
      },
      "source": [
        "env = TicTacToe(n_rows=N_ROWS, n_cols=N_COLS, n_win=N_WIN)\n",
        "pi1, pi2, Q_wins, Q_loses, Q_draws, Q_crashes = train(env, \n",
        "                                     total_episodes=50000,\n",
        "                                     total_episodes_test=10000,\n",
        "                                     episodes_estimation_interval=30000,\n",
        "                                     epsilon=0.3,\n",
        "                                     alpha=0.01,\n",
        "                                     gamma=1,)"
      ],
      "execution_count": 45,
      "outputs": [
        {
          "output_type": "stream",
          "text": [
            "/usr/local/lib/python3.6/dist-packages/ipykernel_launcher.py:14: TqdmDeprecationWarning: This function will be removed in tqdm==5.0.0\n",
            "Please use `tqdm.notebook.tqdm` instead of `tqdm.tqdm_notebook`\n",
            "  \n"
          ],
          "name": "stderr"
        },
        {
          "output_type": "display_data",
          "data": {
            "application/vnd.jupyter.widget-view+json": {
              "model_id": "e0b69bf8ba9b4c3bafa6847bd5cf4b11",
              "version_minor": 0,
              "version_major": 2
            },
            "text/plain": [
              "HBox(children=(FloatProgress(value=0.0, max=50000.0), HTML(value='')))"
            ]
          },
          "metadata": {
            "tags": []
          }
        },
        {
          "output_type": "stream",
          "text": [
            "Wins:0.0395, Loses:0.0722, Draws:0.0097, Crashes:0.8786\n",
            "Wins:0.6205, Loses:0.2258, Draws:0.0232, Crashes:0.1305\n",
            "\n",
            "Wins:0.7844, Loses:0.1568, Draws:0.0176, Crashes:0.0412\n"
          ],
          "name": "stdout"
        }
      ]
    },
    {
      "cell_type": "code",
      "metadata": {
        "colab": {
          "base_uri": "https://localhost:8080/",
          "height": 117,
          "referenced_widgets": [
            "e17d70a9e8e34f939b5ab7bc6dee43a8",
            "1ce801fbf5924ad3a05e0ebd29c1da62",
            "484ab47f4eb240b3bad9387ae9223b9b",
            "8d8b33a6ef6e46168118a5c3537a4b0d",
            "74fc56f83f4c463c92fda486a8cc8006",
            "4b7c607cffd047e489370979aceae040",
            "8248a20f898343839959bc0215232e3e",
            "a7c977e35ed340d0a99cdf119a5f649a"
          ]
        },
        "id": "ZeToOkpbAEIx",
        "outputId": "baa71b84-8611-402d-b2ee-74f66e277336"
      },
      "source": [
        "env = TicTacToe(N_ROWS, N_COLS, N_WIN)\n",
        "wins = 0\n",
        "loses = 0\n",
        "draws = 0\n",
        "crashes = 0\n",
        "for _ in tqdm_notebook(range(100)):\n",
        "    me = np.random.choice([-1, 1])\n",
        "    if me == 1:\n",
        "      reward = test_strategy_with_rollouts(env, pi1, me)\n",
        "    else:\n",
        "      reward = test_strategy_with_rollouts(env, pi2, me)\n",
        "    if reward == -1:\n",
        "      loses += 1\n",
        "    elif reward == 1:\n",
        "      wins += 1\n",
        "    elif reward == 0:\n",
        "      draws += 1\n",
        "    else:\n",
        "      crashes += 1"
      ],
      "execution_count": 46,
      "outputs": [
        {
          "output_type": "stream",
          "text": [
            "/usr/local/lib/python3.6/dist-packages/ipykernel_launcher.py:6: TqdmDeprecationWarning: This function will be removed in tqdm==5.0.0\n",
            "Please use `tqdm.notebook.tqdm` instead of `tqdm.tqdm_notebook`\n",
            "  \n"
          ],
          "name": "stderr"
        },
        {
          "output_type": "display_data",
          "data": {
            "application/vnd.jupyter.widget-view+json": {
              "model_id": "e17d70a9e8e34f939b5ab7bc6dee43a8",
              "version_minor": 0,
              "version_major": 2
            },
            "text/plain": [
              "HBox(children=(FloatProgress(value=0.0), HTML(value='')))"
            ]
          },
          "metadata": {
            "tags": []
          }
        },
        {
          "output_type": "stream",
          "text": [
            "\n"
          ],
          "name": "stdout"
        }
      ]
    },
    {
      "cell_type": "code",
      "metadata": {
        "id": "jq0Q_aqYDTBh"
      },
      "source": [
        "Q_wins = wins / 100\n",
        "Q_loses = loses / 100\n",
        "Q_draws = draws / 100\n",
        "Q_crashes = crashes / 100"
      ],
      "execution_count": 47,
      "outputs": []
    },
    {
      "cell_type": "code",
      "metadata": {
        "colab": {
          "base_uri": "https://localhost:8080/"
        },
        "id": "dyr_IatbAjG2",
        "outputId": "e9a9caf3-9737-4821-f072-aa1b5d67e717"
      },
      "source": [
        "print(f\"Wins:{Q_wins}, Losses:{Q_loses}, Draws:{Q_draws}, Crashes:{Q_crashes}\")"
      ],
      "execution_count": 48,
      "outputs": [
        {
          "output_type": "stream",
          "text": [
            "Wins:0.88, Losses:0.11, Draws:0.01, Crashes:0.0\n"
          ],
          "name": "stdout"
        }
      ]
    },
    {
      "cell_type": "markdown",
      "metadata": {
        "id": "WJvyna5QDTqb"
      },
      "source": [
        "## 4x4"
      ]
    },
    {
      "cell_type": "code",
      "metadata": {
        "colab": {
          "base_uri": "https://localhost:8080/",
          "height": 117,
          "referenced_widgets": [
            "d3733dcf218e48d2a87ade65edaa067c",
            "bc18bb327e58402db48481db123cba5f",
            "063ee627956f428ba50aba27071a9c27",
            "3266d8330dab40c2bbe5c8b31e2653bc",
            "a0c3af1951ed45caa636e10f2a7c6cb0",
            "6a24fe4365d3471687ca91956f515ead",
            "6d2d09a4707648db83f17599534e2862",
            "062edf68f0144c5d9e61ff53c4ea84fd"
          ]
        },
        "id": "MTeJtj9zxkWQ",
        "outputId": "b14dd857-ac78-41d9-b85d-ba59b8f4a2c2"
      },
      "source": [
        "env = TicTacToe(4, 4, 4)\n",
        "# Q1 = defaultdict(lambda: np.random.random(env.n_rows * env.n_cols))\n",
        "# Q2 = defaultdict(lambda: np.random.random(env.n_rows * env.n_cols))\n",
        "# pi1 = Policy(Q1, env.n_rows, env.n_cols)\n",
        "# pi2 = Policy(Q2, env.n_rows, env.n_cols)\n",
        "wins = 0\n",
        "loses = 0\n",
        "draws = 0\n",
        "crashes = 0\n",
        "for _ in tqdm_notebook(range(100)):\n",
        "    me = np.random.choice([-1, 1])\n",
        "    if me == 1:\n",
        "      reward = test_strategy_with_rollouts(env, me=me)\n",
        "    else:\n",
        "      reward = test_strategy_with_rollouts(env, me=me)\n",
        "    if reward == -1:\n",
        "      loses += 1\n",
        "    elif reward == 1:\n",
        "      wins += 1\n",
        "    elif reward == 0:\n",
        "      draws += 1\n",
        "    else:\n",
        "      crashes += 1"
      ],
      "execution_count": 57,
      "outputs": [
        {
          "output_type": "stream",
          "text": [
            "/usr/local/lib/python3.6/dist-packages/ipykernel_launcher.py:11: TqdmDeprecationWarning: This function will be removed in tqdm==5.0.0\n",
            "Please use `tqdm.notebook.tqdm` instead of `tqdm.tqdm_notebook`\n",
            "  # This is added back by InteractiveShellApp.init_path()\n"
          ],
          "name": "stderr"
        },
        {
          "output_type": "display_data",
          "data": {
            "application/vnd.jupyter.widget-view+json": {
              "model_id": "d3733dcf218e48d2a87ade65edaa067c",
              "version_minor": 0,
              "version_major": 2
            },
            "text/plain": [
              "HBox(children=(FloatProgress(value=0.0), HTML(value='')))"
            ]
          },
          "metadata": {
            "tags": []
          }
        },
        {
          "output_type": "stream",
          "text": [
            "\n"
          ],
          "name": "stdout"
        }
      ]
    },
    {
      "cell_type": "code",
      "metadata": {
        "id": "_NJBcGqNxoq_"
      },
      "source": [
        "Q_wins = wins / 100\n",
        "Q_loses = loses / 100\n",
        "Q_draws = draws / 100\n",
        "Q_crashes = crashes / 100"
      ],
      "execution_count": 60,
      "outputs": []
    },
    {
      "cell_type": "code",
      "metadata": {
        "colab": {
          "base_uri": "https://localhost:8080/"
        },
        "id": "H5g5xJx9xp7m",
        "outputId": "81339ad5-fe14-4339-e468-aab57689f67d"
      },
      "source": [
        "print(f\"Wins:{Q_wins}, Losses:{Q_loses}, Draws:{Q_draws}, Crashes:{Q_crashes}\")"
      ],
      "execution_count": 61,
      "outputs": [
        {
          "output_type": "stream",
          "text": [
            "Wins:0.87, Losses:0.12, Draws:0.01, Crashes:0.0\n"
          ],
          "name": "stdout"
        }
      ]
    },
    {
      "cell_type": "markdown",
      "metadata": {
        "id": "hoOIc4dKxs9r"
      },
      "source": [
        "## 5x5"
      ]
    },
    {
      "cell_type": "code",
      "metadata": {
        "colab": {
          "base_uri": "https://localhost:8080/",
          "height": 117,
          "referenced_widgets": [
            "3580792db0934193bd0e1620fbed94b0",
            "997042a9d5744e23a188273e193d0c9f",
            "6d7f23ff46a14269a23d3ee7081db3ec",
            "2029fb008de349abbdabd81bbc9f56d7",
            "69987f3cdc864cb587356da982402e0d",
            "4e146d7c190b4c46ac7c4a9bee097f65",
            "625f3670b070412eb1a168eeb9fa5334",
            "274a37fefa2540809c8b44500d715c22"
          ]
        },
        "id": "ahmw-O2YIM5F",
        "outputId": "768111a7-9af8-4992-a540-4e1271fd8873"
      },
      "source": [
        "env = TicTacToe(5, 5, 5)\n",
        "# Q1 = defaultdict(lambda: np.random.random(env.n_rows * env.n_cols))\n",
        "# Q2 = defaultdict(lambda: np.random.random(env.n_rows * env.n_cols))\n",
        "# pi1 = Policy(Q1, env.n_rows, env.n_cols)\n",
        "# pi2 = Policy(Q2, env.n_rows, env.n_cols)\n",
        "wins = 0\n",
        "loses = 0\n",
        "draws = 0\n",
        "crashes = 0\n",
        "for _ in tqdm_notebook(range(100)):\n",
        "    me = np.random.choice([-1, 1])\n",
        "    if me == 1:\n",
        "      reward = test_strategy_with_rollouts(env, me=me)\n",
        "    else:\n",
        "      reward = test_strategy_with_rollouts(env, me=me)\n",
        "    if reward == -1:\n",
        "      loses += 1\n",
        "    elif reward == 1:\n",
        "      wins += 1\n",
        "    elif reward == 0:\n",
        "      draws += 1\n",
        "    else:\n",
        "      crashes += 1"
      ],
      "execution_count": 63,
      "outputs": [
        {
          "output_type": "stream",
          "text": [
            "/usr/local/lib/python3.6/dist-packages/ipykernel_launcher.py:10: TqdmDeprecationWarning: This function will be removed in tqdm==5.0.0\n",
            "Please use `tqdm.notebook.tqdm` instead of `tqdm.tqdm_notebook`\n",
            "  # Remove the CWD from sys.path while we load stuff.\n"
          ],
          "name": "stderr"
        },
        {
          "output_type": "display_data",
          "data": {
            "application/vnd.jupyter.widget-view+json": {
              "model_id": "3580792db0934193bd0e1620fbed94b0",
              "version_minor": 0,
              "version_major": 2
            },
            "text/plain": [
              "HBox(children=(FloatProgress(value=0.0), HTML(value='')))"
            ]
          },
          "metadata": {
            "tags": []
          }
        },
        {
          "output_type": "stream",
          "text": [
            "\n"
          ],
          "name": "stdout"
        }
      ]
    },
    {
      "cell_type": "code",
      "metadata": {
        "id": "2aVEJ3rpIM5H"
      },
      "source": [
        "Q_wins = wins / 100\n",
        "Q_loses = loses / 100\n",
        "Q_draws = draws / 100\n",
        "Q_crashes = crashes / 100"
      ],
      "execution_count": 64,
      "outputs": []
    },
    {
      "cell_type": "code",
      "metadata": {
        "colab": {
          "base_uri": "https://localhost:8080/"
        },
        "id": "epOb2XC8IM5I",
        "outputId": "864df4c5-913e-4fb7-ab0c-7b03b4296cd4"
      },
      "source": [
        "print(f\"Wins:{Q_wins}, Losses:{Q_loses}, Draws:{Q_draws}, Crashes:{Q_crashes}\")"
      ],
      "execution_count": 65,
      "outputs": [
        {
          "output_type": "stream",
          "text": [
            "Wins:0.95, Losses:0.05, Draws:0.0, Crashes:0.0\n"
          ],
          "name": "stdout"
        }
      ]
    },
    {
      "cell_type": "markdown",
      "metadata": {
        "id": "cTwiFtS_IR_s"
      },
      "source": [
        "Роллауты прекрасно показали себя на разных размерах сетки."
      ]
    }
  ]
}